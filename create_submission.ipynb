{
  "nbformat": 4,
  "nbformat_minor": 0,
  "metadata": {
    "colab": {
      "provenance": [],
      "authorship_tag": "ABX9TyMtaA/jaDnA1SgipBRCHgck"
    },
    "kernelspec": {
      "name": "python3",
      "display_name": "Python 3"
    },
    "language_info": {
      "name": "python"
    }
  },
  "cells": [
    {
      "cell_type": "code",
      "execution_count": null,
      "metadata": {
        "id": "ZvozlniPD_XD"
      },
      "outputs": [],
      "source": [
        "# create submission file for Google - Fast or Slow? Predict AI Model Runtime"
      ]
    },
    {
      "cell_type": "code",
      "execution_count": null,
      "metadata": {
        "colab": {
          "base_uri": "https://localhost:8080/"
        },
        "id": "TALB-TcjPpOB",
        "outputId": "71841e15-455a-4b43-d352-eb1047a7f8e4"
      },
      "outputs": [
        {
          "output_type": "stream",
          "name": "stdout",
          "text": [
            "Collecting torch-geometric\n",
            "  Downloading torch_geometric-2.3.1.tar.gz (661 kB)\n",
            "\u001b[?25l     \u001b[90m━━━━━━━━━━━━━━━━━━━━━━━━━━━━━━━━━━━━━━━━\u001b[0m \u001b[32m0.0/661.6 kB\u001b[0m \u001b[31m?\u001b[0m eta \u001b[36m-:--:--\u001b[0m\r\u001b[2K     \u001b[91m━━━━━━━━━━━━\u001b[0m\u001b[90m╺\u001b[0m\u001b[90m━━━━━━━━━━━━━━━━━━━━━━━━━━\u001b[0m \u001b[32m204.8/661.6 kB\u001b[0m \u001b[31m6.1 MB/s\u001b[0m eta \u001b[36m0:00:01\u001b[0m\r\u001b[2K     \u001b[90m━━━━━━━━━━━━━━━━━━━━━━━━━━━━━━━━━━━━━━\u001b[0m \u001b[32m661.6/661.6 kB\u001b[0m \u001b[31m11.4 MB/s\u001b[0m eta \u001b[36m0:00:00\u001b[0m\n",
            "\u001b[?25h  Installing build dependencies ... \u001b[?25l\u001b[?25hdone\n",
            "  Getting requirements to build wheel ... \u001b[?25l\u001b[?25hdone\n",
            "  Preparing metadata (pyproject.toml) ... \u001b[?25l\u001b[?25hdone\n",
            "Requirement already satisfied: tqdm in /usr/local/lib/python3.10/dist-packages (from torch-geometric) (4.66.1)\n",
            "Requirement already satisfied: numpy in /usr/local/lib/python3.10/dist-packages (from torch-geometric) (1.23.5)\n",
            "Requirement already satisfied: scipy in /usr/local/lib/python3.10/dist-packages (from torch-geometric) (1.11.2)\n",
            "Requirement already satisfied: jinja2 in /usr/local/lib/python3.10/dist-packages (from torch-geometric) (3.1.2)\n",
            "Requirement already satisfied: requests in /usr/local/lib/python3.10/dist-packages (from torch-geometric) (2.31.0)\n",
            "Requirement already satisfied: pyparsing in /usr/local/lib/python3.10/dist-packages (from torch-geometric) (3.1.1)\n",
            "Requirement already satisfied: scikit-learn in /usr/local/lib/python3.10/dist-packages (from torch-geometric) (1.2.2)\n",
            "Requirement already satisfied: psutil>=5.8.0 in /usr/local/lib/python3.10/dist-packages (from torch-geometric) (5.9.5)\n",
            "Requirement already satisfied: MarkupSafe>=2.0 in /usr/local/lib/python3.10/dist-packages (from jinja2->torch-geometric) (2.1.3)\n",
            "Requirement already satisfied: charset-normalizer<4,>=2 in /usr/local/lib/python3.10/dist-packages (from requests->torch-geometric) (3.2.0)\n",
            "Requirement already satisfied: idna<4,>=2.5 in /usr/local/lib/python3.10/dist-packages (from requests->torch-geometric) (3.4)\n",
            "Requirement already satisfied: urllib3<3,>=1.21.1 in /usr/local/lib/python3.10/dist-packages (from requests->torch-geometric) (2.0.4)\n",
            "Requirement already satisfied: certifi>=2017.4.17 in /usr/local/lib/python3.10/dist-packages (from requests->torch-geometric) (2023.7.22)\n",
            "Requirement already satisfied: joblib>=1.1.1 in /usr/local/lib/python3.10/dist-packages (from scikit-learn->torch-geometric) (1.3.2)\n",
            "Requirement already satisfied: threadpoolctl>=2.0.0 in /usr/local/lib/python3.10/dist-packages (from scikit-learn->torch-geometric) (3.2.0)\n",
            "Building wheels for collected packages: torch-geometric\n",
            "  Building wheel for torch-geometric (pyproject.toml) ... \u001b[?25l\u001b[?25hdone\n",
            "  Created wheel for torch-geometric: filename=torch_geometric-2.3.1-py3-none-any.whl size=910454 sha256=f9c358c78227929a6e989b53bc8489d297d9545011f97243ca404669e6537ffe\n",
            "  Stored in directory: /root/.cache/pip/wheels/ac/dc/30/e2874821ff308ee67dcd7a66dbde912411e19e35a1addda028\n",
            "Successfully built torch-geometric\n",
            "Installing collected packages: torch-geometric\n",
            "Successfully installed torch-geometric-2.3.1\n",
            "Collecting einops\n",
            "  Downloading einops-0.6.1-py3-none-any.whl (42 kB)\n",
            "\u001b[2K     \u001b[90m━━━━━━━━━━━━━━━━━━━━━━━━━━━━━━━━━━━━━━━━\u001b[0m \u001b[32m42.2/42.2 kB\u001b[0m \u001b[31m1.5 MB/s\u001b[0m eta \u001b[36m0:00:00\u001b[0m\n",
            "\u001b[?25hInstalling collected packages: einops\n",
            "Successfully installed einops-0.6.1\n",
            "Requirement already satisfied: pytz in /usr/local/lib/python3.10/dist-packages (2023.3.post1)\n"
          ]
        }
      ],
      "source": [
        "!pip install torch-geometric\n",
        "!pip install einops\n",
        "!pip install pytz"
      ]
    },
    {
      "cell_type": "code",
      "source": [
        "import shutil\n",
        "import os\n",
        "import csv\n",
        "\n",
        "from google.colab import drive\n",
        "\n",
        "from tqdm import tqdm\n",
        "\n",
        "import numpy as np\n",
        "import pandas as pd\n",
        "\n",
        "import torch\n",
        "from torch import nn\n",
        "\n",
        "from torch_geometric import nn as gnn\n",
        "\n",
        "from torch.nn import Linear, ReLU, Dropout\n",
        "from torch_geometric.nn import GCNConv\n",
        "from torch_geometric.nn import global_mean_pool\n",
        "from einops import reduce, repeat, rearrange\n",
        "\n",
        "from torch.utils.data import Dataset, DataLoader\n",
        "\n",
        "drive.mount('/content/drive')"
      ],
      "metadata": {
        "colab": {
          "base_uri": "https://localhost:8080/"
        },
        "id": "yG4yrTR9EjOe",
        "outputId": "43020e13-6dd6-4d5f-b439-762f5402ada4"
      },
      "execution_count": null,
      "outputs": [
        {
          "output_type": "stream",
          "name": "stdout",
          "text": [
            "Mounted at /content/drive\n"
          ]
        }
      ]
    },
    {
      "cell_type": "code",
      "source": [
        "device = torch.device('cuda' if torch.cuda.is_available() else 'cpu')\n",
        "print(device)"
      ],
      "metadata": {
        "colab": {
          "base_uri": "https://localhost:8080/"
        },
        "id": "mvvItiFCtejn",
        "outputId": "ce972869-d076-4ed0-da70-6d43f20b8d67"
      },
      "execution_count": null,
      "outputs": [
        {
          "output_type": "stream",
          "name": "stdout",
          "text": [
            "cpu\n"
          ]
        }
      ]
    },
    {
      "cell_type": "markdown",
      "source": [
        "## Models"
      ],
      "metadata": {
        "id": "7ECo3gOFoeT7"
      }
    },
    {
      "cell_type": "code",
      "source": [
        "from torch_geometric.data import Batch\n",
        "class Tile_GNN(nn.Module):\n",
        "\n",
        "    def __init__(self, len_opcode_embedd, hidden_dim, output_dim, num_layers):\n",
        "        super(Tile_GNN, self).__init__()\n",
        "\n",
        "        self.len_opcode = len_opcode_embedd\n",
        "        self.hidden_dim = hidden_dim\n",
        "        self.output_dim = output_dim\n",
        "        self.num_layers = num_layers\n",
        "\n",
        "        # Embeddings\n",
        "        self.embedding_layer = nn.Embedding(num_embeddings = 120, embedding_dim=len_opcode_embedd)\n",
        "\n",
        "        #GNN\n",
        "        input_dim = len_opcode_embedd + 140\n",
        "        layers = nn.ModuleList()\n",
        "        layers.append(GCNConv(input_dim, hidden_dim))\n",
        "        for _ in range(num_layers - 2): # TODO list comp, ReLU\n",
        "            layers.append(GCNConv(hidden_dim, hidden_dim))\n",
        "        layers.append(GCNConv(hidden_dim, output_dim))\n",
        "\n",
        "        self.conv = layers\n",
        "\n",
        "        # Linear\n",
        "        self.linear = nn.Sequential(\n",
        "            nn.Linear(output_dim + 24, 48),\n",
        "            nn.ReLU(),\n",
        "            nn.Linear(48, 48),\n",
        "            nn.ReLU(),\n",
        "            nn.Linear(48, 1)\n",
        "        )\n",
        "\n",
        "\n",
        "    def __init__(self, len_opcode_embedd, hidden_dim, output_dim, num_layers):\n",
        "        super(Tile_GNN, self).__init__()\n",
        "\n",
        "        self.len_opcode = len_opcode_embedd\n",
        "        self.hidden_dim = hidden_dim\n",
        "        self.output_dim = output_dim\n",
        "        self.num_layers = num_layers\n",
        "\n",
        "        # Embeddings\n",
        "        self.embedding_layer = nn.Embedding(num_embeddings = 120, embedding_dim=len_opcode_embedd)\n",
        "\n",
        "        #GNN\n",
        "        input_dim = len_opcode_embedd + 140 + 18\n",
        "        layers = nn.ModuleList()\n",
        "        layers.append(GCNConv(input_dim, hidden_dim))\n",
        "        for _ in range(num_layers - 2): # TODO list comp, ReLU\n",
        "            layers.append(GCNConv(hidden_dim, hidden_dim))\n",
        "        layers.append(GCNConv(hidden_dim, output_dim))\n",
        "\n",
        "        self.conv = layers\n",
        "\n",
        "        # Linear\n",
        "        self.linear = nn.Sequential(\n",
        "            nn.Linear(output_dim, 48),\n",
        "            nn.ReLU(),\n",
        "            nn.Linear(48, 48),\n",
        "            nn.ReLU(),\n",
        "            nn.Linear(48, 1)\n",
        "        )\n",
        "\n",
        "    def forward(self, data):\n",
        "\n",
        "        opcode_embedd = self.embedding_layer(data['node_opcode']) # (n,) -> (n,len_opcode_embedd)\n",
        "\n",
        "        x = torch.cat((opcode_embedd, data['node_feat']), dim=1) # [(n, len_opcode_embedd), (n,140)] -> (n, len_opcode_embedd + 140 + 18)\n",
        "\n",
        "        for layer in self.conv:\n",
        "          x = layer(x, data['edge_index'])\n",
        "          x = torch.relu(x)\n",
        "\n",
        "        # differ two cases:\n",
        "        # 1) batched data used for training\n",
        "        # 2) single graph Data object used for inference\n",
        "\n",
        "        if isinstance(data, Batch):\n",
        "\n",
        "          '''\n",
        "          The geometric data loader will take batch_size number of graphs. Then it will take all nodes in all these graphs and fuse them together into one graph.\n",
        "          On this fuesed graph it will perform the convolution to calculate all the node embeddings at once.\n",
        "          To apply the linear layer we have to seperate out all the graphs out of the batch again.\n",
        "          '''\n",
        "\n",
        "          # tensor used to store config predictions for each graph\n",
        "          configs = torch.empty(0,1).to(device)\n",
        "\n",
        "          # used to retrieve the config_feat tensors for each graph\n",
        "          total = 0\n",
        "\n",
        "          for graph_ind in range(data.num_graphs):\n",
        "\n",
        "            # using a mask to gather all nodes that belong to the graph_ind-th graph\n",
        "            node_indices = (data.batch == graph_ind).nonzero(as_tuple=True)[0]\n",
        "            # first dimension is the number of nodes in the graph with index graph_ind, second dimensions is the feature dimension of the convolution (n, output_dim)\n",
        "            graph_nodes = x[node_indices]\n",
        "\n",
        "            # reduce node embeedings to get a graph embedding\n",
        "            temp = reduce(graph_nodes, 'n f -> f', 'mean')\n",
        "\n",
        "            # number of configurations for the graph_ind-th graph\n",
        "            c = data.number_configs[graph_ind]\n",
        "\n",
        "            # config_feat for the graph_ind-th graph\n",
        "            graph_config_feat = data.config_feat[total:total+c]\n",
        "\n",
        "            total += c\n",
        "\n",
        "            # concatinating graph embedding with config_feat\n",
        "            temp = repeat(temp, 'f -> r f', r=c)\n",
        "            temp = torch.cat((temp, graph_config_feat), dim=1)\n",
        "\n",
        "\n",
        "            # apply linear layer to tensor with shape (c, output_dim+24)\n",
        "            temp = self.linear(temp)\n",
        "\n",
        "            # add calculated runtimes to configs\n",
        "            configs = torch.cat((configs, temp), dim=0)\n",
        "\n",
        "          configs = rearrange(configs, 'f 1 -> f')\n",
        "\n",
        "          return configs\n",
        "\n",
        "        # only working with one graph object\n",
        "\n",
        "        else:\n",
        "\n",
        "          x = reduce(x, 'n f -> f', 'mean') # (n, output_dim) -> (output_dim, )\n",
        "\n",
        "          x = repeat(x, 'f -> r f', r=len(data['config_feat'])) # (output_dim,) -> (c, output_dim)\n",
        "\n",
        "          x = torch.cat((x, data['config_feat']), dim=1) # [(x, output_dim), (c,24)] -> (c, output_dim + 24)\n",
        "\n",
        "          x = self.linear(x)\n",
        "\n",
        "          x = rearrange(x, 'f 1 -> f')\n",
        "\n",
        "        return x"
      ],
      "metadata": {
        "id": "mQuXlMCPHUIJ"
      },
      "execution_count": null,
      "outputs": []
    },
    {
      "cell_type": "code",
      "source": [
        "from torch_geometric.data import Batch\n",
        "class Layout_GNN(nn.Module):\n",
        "\n",
        "    def __init__(self, len_opcode_embedd, hidden_dim, output_dim, num_layers):\n",
        "        super(Layout_GNN, self).__init__()\n",
        "\n",
        "        self.len_opcode = len_opcode_embedd\n",
        "        self.hidden_dim = hidden_dim\n",
        "        self.output_dim = output_dim\n",
        "        self.num_layers = num_layers\n",
        "\n",
        "        # Embeddings\n",
        "        self.embedding_layer = nn.Embedding(num_embeddings = 120, embedding_dim=len_opcode_embedd)\n",
        "\n",
        "        #GNN\n",
        "        input_dim = len_opcode_embedd + 140 + 18\n",
        "        layers = nn.ModuleList()\n",
        "        layers.append(GCNConv(input_dim, hidden_dim))\n",
        "        for _ in range(num_layers - 2): # TODO list comp, ReLU\n",
        "            layers.append(GCNConv(hidden_dim, hidden_dim))\n",
        "        layers.append(GCNConv(hidden_dim, output_dim))\n",
        "\n",
        "        self.conv = layers\n",
        "\n",
        "        # Linear\n",
        "        self.linear = nn.Sequential(\n",
        "            nn.Linear(output_dim, 48),\n",
        "            nn.ReLU(),\n",
        "            nn.Linear(48, 48),\n",
        "            nn.ReLU(),\n",
        "            nn.Linear(48, 1)\n",
        "        )\n",
        "\n",
        "    def forward(self, data):\n",
        "\n",
        "        opcode_embedd = self.embedding_layer(data['node_opcode']) # (n,) -> (n,len_opcode_embedd)\n",
        "\n",
        "        x = torch.cat((opcode_embedd, data['node_feat']), dim=1) # [(n, len_opcode_embedd), (n,140 + 18)] -> (n, len_opcode_embedd + 140 + 18)\n",
        "\n",
        "        for layer in self.conv:\n",
        "          x = layer(x, data['edge_index'])\n",
        "          x = torch.relu(x)\n",
        "\n",
        "        # differ two cases:\n",
        "        # 1) batched data used for training\n",
        "        # 2) single graph Data object used for inference\n",
        "\n",
        "        if isinstance(data, Batch):\n",
        "\n",
        "          '''\n",
        "          The geometric data loader will take batch_size number of graphs. Then it will take all nodes in all these graphs and fuse them together into one graph.\n",
        "          On this fuesed graph it will perform the convolution to calculate all the node embeddings at once.\n",
        "          To apply the linear layer we have to seperate out all the graphs out of the batch again.\n",
        "          '''\n",
        "\n",
        "          # tensor used to store config predictions for each graph\n",
        "          configs = torch.empty(0).to(device)\n",
        "\n",
        "          for graph_ind in range(data.num_graphs):\n",
        "\n",
        "            # using a mask to gather all nodes that belong to the graph_ind-th graph\n",
        "            node_indices = (data.batch == graph_ind).nonzero(as_tuple=True)[0]\n",
        "            # first dimension is the number of nodes in the graph with index graph_ind, second dimensions is the feature dimension of the convolution (n, output_dim)\n",
        "            graph_nodes = x[node_indices]\n",
        "\n",
        "            # reduce node embeedings to get a graph embedding\n",
        "            temp = reduce(graph_nodes, 'n f -> f', 'mean')\n",
        "            # apply linear layer to tensor with shape (c, output_dim+24)\n",
        "            temp = self.linear(temp)\n",
        "\n",
        "\n",
        "            # add calculated runtimes to configs\n",
        "            configs = torch.cat((configs, temp), dim=0)\n",
        "\n",
        "          return configs\n",
        "\n",
        "        # only working with one graph object\n",
        "\n",
        "        else:\n",
        "\n",
        "          x = reduce(x, 'n f -> f', 'mean') # (n, output_dim) -> (output_dim, )\n",
        "\n",
        "          x = self.linear(x)\n",
        "\n",
        "        return x"
      ],
      "metadata": {
        "id": "IhTaT48l29YH"
      },
      "execution_count": null,
      "outputs": []
    },
    {
      "cell_type": "markdown",
      "source": [
        "## load data"
      ],
      "metadata": {
        "id": "z7Q3d_kmuO9P"
      }
    },
    {
      "cell_type": "code",
      "source": [
        "# unzipped archive in drive\n",
        "splits = [\"train\", \"valid\", \"test\"]\n",
        "\n",
        "layout_nlp_default = '/content/drive/MyDrive/google-tpu/predict-ai-model-runtime/npz_all/npz/layout/nlp/default'\n",
        "layout_nlp_random = '/content/drive/MyDrive/google-tpu/predict-ai-model-runtime/npz_all/npz/layout/nlp/random'\n",
        "layout_xla_default = '/content/drive/MyDrive/google-tpu/predict-ai-model-runtime/npz_all/npz/layout/xla/default'\n",
        "layout_xla_random = '/content/drive/MyDrive/google-tpu/predict-ai-model-runtime/npz_all/npz/layout/xla/random'\n",
        "\n",
        "tile_xla= '/content/drive/MyDrive/google-tpu/predict-ai-model-runtime/npz_all/npz/tile/xla'"
      ],
      "metadata": {
        "id": "7S-ypSa7uRp8"
      },
      "execution_count": null,
      "outputs": []
    },
    {
      "cell_type": "code",
      "source": [
        "def load_data_to_df(directory, split):\n",
        "\n",
        "    path = os.path.join(directory, split)\n",
        "    files = [os.path.join(path, file) for file in os.listdir(path)]\n",
        "    data_list = []\n",
        "    for file in tqdm(files):\n",
        "        data = dict(np.load(file))\n",
        "        data_list.append(data)\n",
        "\n",
        "    return pd.DataFrame(data_list)"
      ],
      "metadata": {
        "id": "dGnC2qz8uZe-"
      },
      "execution_count": null,
      "outputs": []
    },
    {
      "cell_type": "code",
      "source": [
        "df_tile = load_data_to_df(tile_xla, \"valid\")\n",
        "df_layout = load_data_to_df(tile_xla, \"valid\")"
      ],
      "metadata": {
        "colab": {
          "base_uri": "https://localhost:8080/"
        },
        "id": "IZKegJg-u0_U",
        "outputId": "8ca01ebc-f332-4b2f-df3d-dbccebef9f68"
      },
      "execution_count": null,
      "outputs": [
        {
          "output_type": "stream",
          "name": "stderr",
          "text": [
            "100%|██████████| 673/673 [00:12<00:00, 54.28it/s] \n",
            "100%|██████████| 673/673 [00:03<00:00, 195.17it/s]\n"
          ]
        }
      ]
    },
    {
      "cell_type": "markdown",
      "source": [
        "## Submission"
      ],
      "metadata": {
        "id": "F6uc42zEpLyI"
      }
    },
    {
      "cell_type": "code",
      "source": [
        "sample_submission = '/content/drive/MyDrive/google-tpu/predict-ai-model-runtime/sample_submission.csv'"
      ],
      "metadata": {
        "id": "Z8RxzT2nnw9R"
      },
      "execution_count": null,
      "outputs": []
    },
    {
      "cell_type": "code",
      "source": [
        "from datetime import datetime\n",
        "from pytz import timezone\n",
        "\n",
        "\n",
        "def create_submission(Tile_model: None, name_tile: None, Layout_model: None, name_layout: None):\n",
        "  if not Tile_model == None:\n",
        "    Tile_model.eval()\n",
        "  if not Layout_model == None:\n",
        "    Layout_model.eval()\n",
        "  if name_tile == None and name_layout == None:\n",
        "    raise ValueError(\"no models provided\")\n",
        "  else:\n",
        "    cest = timezone('Europe/Berlin')\n",
        "    now = datetime.now(timezone('UTC'))\n",
        "    now_cest = now.astimezone(cest)\n",
        "    now_str = now_cest.strftime('%Y-%m-%d_%H:%M:%S')\n",
        "\n",
        "    submission_file = '/content/drive/MyDrive/google-tpu/predict-ai-model-runtime/submissions/predictions/' + name_tile + \"_\" + name_layout + \"_\" + now_str\n",
        "\n",
        "    shutil.copy(sample_submission, submission_file)\n",
        "\n",
        "    predictions = []\n",
        "    values = []\n",
        "    # create predictions\n",
        "\n",
        "    with open(submission_file, 'r') as file:\n",
        "      reader = csv.reader(file)\n",
        "      next(reader) # skip header\n",
        "\n",
        "\n",
        "      for row in tqdm(reader, total = 894):\n",
        "        sample = row[0].split(\":\")\n",
        "        if not sample[0] in [\"tile\", \"layout\"] or not sample[1] in [\"xla\", \"nlp\"]:\n",
        "          raise ValueError(\"sample submission file invalid\")\n",
        "\n",
        "        path = '/content/drive/MyDrive/google-tpu/predict-ai-model-runtime/npz_all/npz/' + sample[0] + '/' + sample[1]\n",
        "\n",
        "        if sample[0] == \"tile\":\n",
        "          if Tile_model == None:\n",
        "            predictions.append([])\n",
        "            continue\n",
        "\n",
        "          path = path + '/test/' + sample[2] + '.npz'\n",
        "          assert(os.path.isfile(path))\n",
        "          x = dict(np.load(path))\n",
        "\n",
        "          x['node_feat'] = torch.tensor(x['node_feat'], dtype=torch.float32)\n",
        "          x['node_opcode'] = torch.tensor(x['node_opcode'], dtype=torch.int32)\n",
        "          x['edge_index'] = torch.tensor(x['edge_index'], dtype=torch.long).t().contiguous()\n",
        "          x['config_feat'] = torch.tensor(x['config_feat'], dtype=torch.float32)\n",
        "          x['number_configs'] = torch.tensor([len(x['config_runtime'])])\n",
        "\n",
        "          x_pred = Tile_model(x)\n",
        "          values.append(x_pred)\n",
        "          x_pred = torch.sort(x_pred).indices\n",
        "          predictions.append(x_pred[:5])\n",
        "\n",
        "        else:\n",
        "          if Layout_model == None:\n",
        "            predictions.append([])\n",
        "            continue\n",
        "          path = path + '/' +  sample[2] + '/test/' + sample[3] + '.npz'\n",
        "          assert(os.path.isfile(path))\n",
        "          x = dict(np.load(path))\n",
        "          # TODO: implement layout case\n",
        "\n",
        "    # create csv file\n",
        "\n",
        "    df = pd.read_csv(submission_file)\n",
        "\n",
        "    for i in range(len(predictions)):\n",
        "      if len(predictions[i]) == 0:\n",
        "        continue\n",
        "      df.iloc[i][1] = ';'.join(map(str, np.array(predictions[i])))\n",
        "\n",
        "    df.to_csv(submission_file, index=False)"
      ],
      "metadata": {
        "id": "oTPUV84mpVqD"
      },
      "execution_count": null,
      "outputs": []
    },
    {
      "cell_type": "markdown",
      "source": [
        "## Example"
      ],
      "metadata": {
        "id": "yxPUcEHxr6jp"
      }
    },
    {
      "cell_type": "code",
      "source": [
        "!cd drive/MyDrive/google-tpu/predict-ai-model-runtime/submissions/models/ && ls"
      ],
      "metadata": {
        "colab": {
          "base_uri": "https://localhost:8080/"
        },
        "id": "2NJctdjtsvAo",
        "outputId": "e3a5475f-a889-49a0-da47-37f6c02b2304"
      },
      "execution_count": null,
      "outputs": [
        {
          "output_type": "stream",
          "name": "stdout",
          "text": [
            "2023-09-22_23:01:26\n"
          ]
        }
      ]
    },
    {
      "cell_type": "code",
      "source": [
        "Tile_model = torch.load('/content/drive/MyDrive/google-tpu/predict-ai-model-runtime/submissions/models/2023-09-22_23:01:26', map_location=torch.device('cpu'))"
      ],
      "metadata": {
        "id": "b2rCvl12r-wl"
      },
      "execution_count": null,
      "outputs": []
    },
    {
      "cell_type": "code",
      "source": [
        "create_submission(Tile_model, \"test\", None, \"dev\")"
      ],
      "metadata": {
        "id": "eRV807Anr-0L",
        "colab": {
          "base_uri": "https://localhost:8080/"
        },
        "outputId": "74f1dfb2-3bbe-450d-fbee-e33b47d56e93"
      },
      "execution_count": null,
      "outputs": [
        {
          "output_type": "stream",
          "name": "stderr",
          "text": [
            "100%|██████████| 894/894 [00:12<00:00, 72.53it/s]\n"
          ]
        }
      ]
    }
  ]
}