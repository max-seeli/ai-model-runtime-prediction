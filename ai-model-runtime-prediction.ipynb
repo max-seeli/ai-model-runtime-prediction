{
 "cells": [
  {
   "cell_type": "code",
   "execution_count": 1,
   "id": "4d9e1a2e",
   "metadata": {
    "execution": {
     "iopub.execute_input": "2023-09-04T01:30:37.056415Z",
     "iopub.status.busy": "2023-09-04T01:30:37.055604Z",
     "iopub.status.idle": "2023-09-04T01:31:11.094925Z",
     "shell.execute_reply": "2023-09-04T01:31:11.093677Z"
    },
    "papermill": {
     "duration": 34.051428,
     "end_time": "2023-09-04T01:31:11.097859",
     "exception": false,
     "start_time": "2023-09-04T01:30:37.046431",
     "status": "completed"
    },
    "tags": []
   },
   "outputs": [
    {
     "name": "stdout",
     "output_type": "stream",
     "text": [
      "Collecting torch-geometric\r\n",
      "  Downloading torch_geometric-2.3.1.tar.gz (661 kB)\r\n",
      "\u001b[2K     \u001b[90m━━━━━━━━━━━━━━━━━━━━━━━━━━━━━━━━━━━━━━\u001b[0m \u001b[32m661.6/661.6 kB\u001b[0m \u001b[31m10.3 MB/s\u001b[0m eta \u001b[36m0:00:00\u001b[0m\r\n",
      "\u001b[?25h  Installing build dependencies ... \u001b[?25l-\b \b\\\b \b|\b \b/\b \b-\b \bdone\r\n",
      "\u001b[?25h  Getting requirements to build wheel ... \u001b[?25l-\b \bdone\r\n",
      "\u001b[?25h  Preparing metadata (pyproject.toml) ... \u001b[?25l-\b \bdone\r\n",
      "\u001b[?25hRequirement already satisfied: tqdm in /opt/conda/lib/python3.10/site-packages (from torch-geometric) (4.66.1)\r\n",
      "Requirement already satisfied: numpy in /opt/conda/lib/python3.10/site-packages (from torch-geometric) (1.23.5)\r\n",
      "Requirement already satisfied: scipy in /opt/conda/lib/python3.10/site-packages (from torch-geometric) (1.11.2)\r\n",
      "Requirement already satisfied: jinja2 in /opt/conda/lib/python3.10/site-packages (from torch-geometric) (3.1.2)\r\n",
      "Requirement already satisfied: requests in /opt/conda/lib/python3.10/site-packages (from torch-geometric) (2.31.0)\r\n",
      "Requirement already satisfied: pyparsing in /opt/conda/lib/python3.10/site-packages (from torch-geometric) (3.0.9)\r\n",
      "Requirement already satisfied: scikit-learn in /opt/conda/lib/python3.10/site-packages (from torch-geometric) (1.2.2)\r\n",
      "Requirement already satisfied: psutil>=5.8.0 in /opt/conda/lib/python3.10/site-packages (from torch-geometric) (5.9.3)\r\n",
      "Requirement already satisfied: MarkupSafe>=2.0 in /opt/conda/lib/python3.10/site-packages (from jinja2->torch-geometric) (2.1.3)\r\n",
      "Requirement already satisfied: charset-normalizer<4,>=2 in /opt/conda/lib/python3.10/site-packages (from requests->torch-geometric) (3.1.0)\r\n",
      "Requirement already satisfied: idna<4,>=2.5 in /opt/conda/lib/python3.10/site-packages (from requests->torch-geometric) (3.4)\r\n",
      "Requirement already satisfied: urllib3<3,>=1.21.1 in /opt/conda/lib/python3.10/site-packages (from requests->torch-geometric) (1.26.15)\r\n",
      "Requirement already satisfied: certifi>=2017.4.17 in /opt/conda/lib/python3.10/site-packages (from requests->torch-geometric) (2023.7.22)\r\n",
      "Requirement already satisfied: joblib>=1.1.1 in /opt/conda/lib/python3.10/site-packages (from scikit-learn->torch-geometric) (1.3.2)\r\n",
      "Requirement already satisfied: threadpoolctl>=2.0.0 in /opt/conda/lib/python3.10/site-packages (from scikit-learn->torch-geometric) (3.1.0)\r\n",
      "Building wheels for collected packages: torch-geometric\r\n",
      "  Building wheel for torch-geometric (pyproject.toml) ... \u001b[?25l-\b \b\\\b \b|\b \b/\b \b-\b \b\\\b \bdone\r\n",
      "\u001b[?25h  Created wheel for torch-geometric: filename=torch_geometric-2.3.1-py3-none-any.whl size=910454 sha256=5f6bc3147643a944f179d7baa6b168331c02a993e9779e283e103ab515b6cd24\r\n",
      "  Stored in directory: /root/.cache/pip/wheels/ac/dc/30/e2874821ff308ee67dcd7a66dbde912411e19e35a1addda028\r\n",
      "Successfully built torch-geometric\r\n",
      "Installing collected packages: torch-geometric\r\n",
      "Successfully installed torch-geometric-2.3.1\r\n"
     ]
    }
   ],
   "source": [
    "!pip install torch-geometric"
   ]
  },
  {
   "cell_type": "code",
   "execution_count": 2,
   "id": "4b6fa502",
   "metadata": {
    "execution": {
     "iopub.execute_input": "2023-09-04T01:31:11.117913Z",
     "iopub.status.busy": "2023-09-04T01:31:11.117462Z",
     "iopub.status.idle": "2023-09-04T01:31:16.445777Z",
     "shell.execute_reply": "2023-09-04T01:31:16.444524Z"
    },
    "papermill": {
     "duration": 5.341472,
     "end_time": "2023-09-04T01:31:16.448785",
     "exception": false,
     "start_time": "2023-09-04T01:31:11.107313",
     "status": "completed"
    },
    "tags": []
   },
   "outputs": [],
   "source": [
    "import os\n",
    "from tqdm import tqdm\n",
    "\n",
    "import numpy as np\n",
    "import pandas as pd\n",
    "\n",
    "import torch\n",
    "from torch import nn\n",
    "from torch.utils.data import Dataset\n",
    "from torch_geometric import nn as gnn"
   ]
  },
  {
   "cell_type": "code",
   "execution_count": 3,
   "id": "2d7416d7",
   "metadata": {
    "execution": {
     "iopub.execute_input": "2023-09-04T01:31:16.468857Z",
     "iopub.status.busy": "2023-09-04T01:31:16.468274Z",
     "iopub.status.idle": "2023-09-04T01:31:16.473570Z",
     "shell.execute_reply": "2023-09-04T01:31:16.472475Z"
    },
    "papermill": {
     "duration": 0.017858,
     "end_time": "2023-09-04T01:31:16.475977",
     "exception": false,
     "start_time": "2023-09-04T01:31:16.458119",
     "status": "completed"
    },
    "tags": []
   },
   "outputs": [],
   "source": [
    "splits = [\"train\", \"valid\", \"test\"]"
   ]
  },
  {
   "cell_type": "code",
   "execution_count": 4,
   "id": "a6e4f18e",
   "metadata": {
    "execution": {
     "iopub.execute_input": "2023-09-04T01:31:16.495419Z",
     "iopub.status.busy": "2023-09-04T01:31:16.494961Z",
     "iopub.status.idle": "2023-09-04T01:31:16.500928Z",
     "shell.execute_reply": "2023-09-04T01:31:16.499770Z"
    },
    "papermill": {
     "duration": 0.018483,
     "end_time": "2023-09-04T01:31:16.503396",
     "exception": false,
     "start_time": "2023-09-04T01:31:16.484913",
     "status": "completed"
    },
    "tags": []
   },
   "outputs": [],
   "source": [
    "layout_nlp_default = '/kaggle/input/predict-ai-model-runtime/npz_all/npz/layout/nlp/default'\n",
    "layout_nlp_random = '/kaggle/input/predict-ai-model-runtime/npz_all/npz/layout/nlp/random'\n",
    "layout_xla_default = '/kaggle/input/predict-ai-model-runtime/npz_all/npz/layout/xla/default'\n",
    "layout_xla_random = '/kaggle/input/predict-ai-model-runtime/npz_all/npz/layout/xla/random'\n",
    "\n",
    "tile_xla = '/kaggle/input/predict-ai-model-runtime/npz_all/npz/tile/xla'"
   ]
  },
  {
   "cell_type": "code",
   "execution_count": 5,
   "id": "3f6827b0",
   "metadata": {
    "execution": {
     "iopub.execute_input": "2023-09-04T01:31:16.523095Z",
     "iopub.status.busy": "2023-09-04T01:31:16.522672Z",
     "iopub.status.idle": "2023-09-04T01:31:16.529929Z",
     "shell.execute_reply": "2023-09-04T01:31:16.528884Z"
    },
    "papermill": {
     "duration": 0.020138,
     "end_time": "2023-09-04T01:31:16.532245",
     "exception": false,
     "start_time": "2023-09-04T01:31:16.512107",
     "status": "completed"
    },
    "tags": []
   },
   "outputs": [],
   "source": [
    "def load_data_to_df(directory, split):\n",
    "\n",
    "    path = os.path.join(directory, split)\n",
    "    files = [os.path.join(path, file) for file in os.listdir(path)]\n",
    "    \n",
    "    data_list = []\n",
    "    for file in tqdm(files):\n",
    "        data_list.append(dict(np.load(file)))\n",
    "        \n",
    "    return pd.DataFrame(data_list)"
   ]
  },
  {
   "cell_type": "code",
   "execution_count": 6,
   "id": "ecc0b9d3",
   "metadata": {
    "execution": {
     "iopub.execute_input": "2023-09-04T01:31:16.552613Z",
     "iopub.status.busy": "2023-09-04T01:31:16.552188Z",
     "iopub.status.idle": "2023-09-04T01:32:01.594628Z",
     "shell.execute_reply": "2023-09-04T01:32:01.593349Z"
    },
    "papermill": {
     "duration": 45.055685,
     "end_time": "2023-09-04T01:32:01.597324",
     "exception": false,
     "start_time": "2023-09-04T01:31:16.541639",
     "status": "completed"
    },
    "tags": []
   },
   "outputs": [
    {
     "name": "stderr",
     "output_type": "stream",
     "text": [
      "100%|██████████| 5709/5709 [00:44<00:00, 127.24it/s]\n"
     ]
    }
   ],
   "source": [
    "df = load_data_to_df(tile_xla, \"train\")"
   ]
  },
  {
   "cell_type": "code",
   "execution_count": 7,
   "id": "41744edd",
   "metadata": {
    "execution": {
     "iopub.execute_input": "2023-09-04T01:32:01.693126Z",
     "iopub.status.busy": "2023-09-04T01:32:01.692678Z",
     "iopub.status.idle": "2023-09-04T01:32:01.705403Z",
     "shell.execute_reply": "2023-09-04T01:32:01.703985Z"
    },
    "papermill": {
     "duration": 0.06395,
     "end_time": "2023-09-04T01:32:01.708314",
     "exception": false,
     "start_time": "2023-09-04T01:32:01.644364",
     "status": "completed"
    },
    "tags": []
   },
   "outputs": [],
   "source": [
    "class TileModel(nn.Module):\n",
    "    \n",
    "    def __init__(self):\n",
    "        super().__init__()\n",
    "        \n",
    "        op_embedding_dim = 8\n",
    "        self.opcode_embedding = nn.Embedding(120, op_embedding_dim)\n",
    "        \n",
    "        node_feature_dim = 140\n",
    "        \n",
    "        conv_out_dim = 48\n",
    "        self.conv = gnn.GCNConv(op_embedding_dim + node_feature_dim, conv_out_dim)\n",
    "        \n",
    "        config_dim = 24\n",
    "        self.fwd = nn.Sequential(\n",
    "            nn.Linear(conv_out_dim + config_dim, 48),\n",
    "            nn.ReLU(),\n",
    "            nn.Linear(48, 48),\n",
    "            nn.ReLU(),\n",
    "            nn.Linear(48, 1)\n",
    "        )\n",
    "        \n",
    "        \n",
    "    def forward(self, node_feat, node_opcode, edge_index, config_feat):\n",
    "        \"\"\"\n",
    "            Shapes:\n",
    "                node_feat    - (n, 140)\n",
    "                node_opcode  - (n, )\n",
    "                edge_index   - (m, 2)\n",
    "                config_feat  - (c, 24)\n",
    "            \n",
    "            Approach:\n",
    "                1. Opcode embeddings\n",
    "                2. Concatenate embeddings to node feature-vector\n",
    "                3. Convolutional layer for node embeddings\n",
    "                4. Pooling for graph embedding\n",
    "                5. Concatenate configuration feature-vector to graph embedding\n",
    "                6. Forward layer\n",
    "                7. Flatten\n",
    "            \n",
    "            Approach is inline with the paper Phitchaya Mangpo Phothilimthana et. al (2023) \n",
    "        \"\"\"\n",
    "        node_opcode_embedding = self.opcode_embedding(node_opcode) # (n, 8)\n",
    "        \n",
    "        x = torch.concat([node_feat, node_opcode_embedding], dim = 1) # (n, 148)\n",
    "        \n",
    "        x = self.conv(x, edge_index) # (n, 48)\n",
    "                \n",
    "        x = torch.mean(x, 0) # (48, )    \n",
    "            \n",
    "        x = x.repeat(len(config_feat), 1) # (c, 48)\n",
    "        \n",
    "        x = torch.concat([x, config_feat], dim = 1) # (c, 72)\n",
    "        \n",
    "        x = self.fwd(x) # (c, 1)\n",
    "        \n",
    "        return torch.flatten(x) # (c, )\n",
    "        "
   ]
  },
  {
   "cell_type": "code",
   "execution_count": 8,
   "id": "ea10b2b5",
   "metadata": {
    "execution": {
     "iopub.execute_input": "2023-09-04T01:32:01.809120Z",
     "iopub.status.busy": "2023-09-04T01:32:01.808686Z",
     "iopub.status.idle": "2023-09-04T01:32:01.820276Z",
     "shell.execute_reply": "2023-09-04T01:32:01.819268Z"
    },
    "papermill": {
     "duration": 0.064881,
     "end_time": "2023-09-04T01:32:01.822731",
     "exception": false,
     "start_time": "2023-09-04T01:32:01.757850",
     "status": "completed"
    },
    "tags": []
   },
   "outputs": [],
   "source": [
    "class TileDataset(Dataset):\n",
    "    \n",
    "    def __init__(self, tiles):\n",
    "        self.tiles = tiles\n",
    "    \n",
    "    def __len__(self):\n",
    "        return len(self.tiles)\n",
    "    \n",
    "    def __getitem__(self, idx):\n",
    "        \n",
    "        node_feat = torch.from_numpy(self.tiles.iloc[idx]['node_feat'])\n",
    "        node_opcode = torch.from_numpy(self.tiles.iloc[idx]['node_opcode']).type(torch.int64)\n",
    "        edge_index = torch.from_numpy(self.tiles.iloc[idx]['edge_index']).permute(1, 0)\n",
    "        config_feat = torch.from_numpy(self.tiles.iloc[idx]['config_feat'])\n",
    "        config_runtime = torch.from_numpy(self.tiles.iloc[idx]['config_runtime'])\n",
    "        config_runtime_normalizers = torch.from_numpy(self.tiles.iloc[idx]['config_runtime_normalizers'])\n",
    "        \n",
    "        return {\n",
    "            \"node_feat\": node_feat,\n",
    "            \"node_opcode\": node_opcode,\n",
    "            \"edge_index\": edge_index,\n",
    "            \"config_feat\": config_feat,\n",
    "            \"y\": config_runtime / config_runtime_normalizers\n",
    "        }\n",
    "    \n",
    "dataset = TileDataset(df)"
   ]
  },
  {
   "cell_type": "code",
   "execution_count": 9,
   "id": "9c3375e1",
   "metadata": {
    "execution": {
     "iopub.execute_input": "2023-09-04T01:32:01.920177Z",
     "iopub.status.busy": "2023-09-04T01:32:01.919762Z",
     "iopub.status.idle": "2023-09-04T01:32:02.058570Z",
     "shell.execute_reply": "2023-09-04T01:32:02.057375Z"
    },
    "papermill": {
     "duration": 0.189601,
     "end_time": "2023-09-04T01:32:02.061013",
     "exception": false,
     "start_time": "2023-09-04T01:32:01.871412",
     "status": "completed"
    },
    "tags": []
   },
   "outputs": [
    {
     "name": "stdout",
     "output_type": "stream",
     "text": [
      "node_feat has type torch.float32 and 31 items\n",
      "node_opcode has type torch.int64 and 31 items\n",
      "edge_index has type torch.int64 and 2 items\n",
      "config_feat has type torch.float32 and 1537 items\n",
      "y has type torch.float32 and 1537 items\n"
     ]
    },
    {
     "data": {
      "text/plain": [
       "{'node_feat': tensor([[0., 0., 0.,  ..., 0., 0., 0.],\n",
       "         [0., 0., 0.,  ..., 0., 0., 0.],\n",
       "         [1., 0., 0.,  ..., 0., 0., 0.],\n",
       "         ...,\n",
       "         [0., 0., 0.,  ..., 1., 0., 0.],\n",
       "         [0., 0., 0.,  ..., 1., 0., 0.],\n",
       "         [1., 0., 0.,  ..., 0., 0., 0.]]),\n",
       " 'node_opcode': tensor([ 63,  63,   2,  63,  63,   2,  63,  11,  63,  11,  63,  24,  13,  59,\n",
       "          63,  41,  63,  41,  26,  25,   2,  59,  24,  70,  59,  70, 100,  63,\n",
       "          63,  63,  41]),\n",
       " 'edge_index': tensor([[ 2,  2,  5,  5,  7,  9, 12, 13, 13, 15, 15, 17, 17, 18, 18, 19, 20, 20,\n",
       "          21, 23, 23, 23, 24, 25, 25, 25, 26, 26, 26, 30, 30, 30, 30],\n",
       "         [ 0,  1,  3,  4,  6,  8, 11, 10, 12,  7, 14,  9, 16, 15, 17, 18, 13, 19,\n",
       "          20,  2, 21, 22, 10,  5, 22, 24, 18, 23, 25, 26, 27, 28, 29]]),\n",
       " 'config_feat': tensor([[16., 16.,  1.,  ...,  0.,  0.,  0.],\n",
       "         [ 3.,  2.,  1.,  ...,  0.,  0.,  0.],\n",
       "         [ 1., 14.,  1.,  ...,  0.,  0.,  0.],\n",
       "         ...,\n",
       "         [20., 20.,  1.,  ...,  0.,  0.,  0.],\n",
       "         [ 3., 80.,  1.,  ...,  0.,  0.,  0.],\n",
       "         [80.,  3.,  1.,  ...,  0.,  0.,  0.]]),\n",
       " 'y': tensor([ 1.0000, 21.1916,  7.8567,  ...,  1.1690,  1.0112,  1.0165])}"
      ]
     },
     "execution_count": 9,
     "metadata": {},
     "output_type": "execute_result"
    }
   ],
   "source": [
    "for key in dataset[0].keys():\n",
    "    print(f\"{key} has type {dataset[0][key].dtype} and {len(dataset[0][key])} items\")\n",
    "    \n",
    "dataset[0]"
   ]
  },
  {
   "cell_type": "code",
   "execution_count": 10,
   "id": "665758c7",
   "metadata": {
    "execution": {
     "iopub.execute_input": "2023-09-04T01:32:02.159017Z",
     "iopub.status.busy": "2023-09-04T01:32:02.158340Z",
     "iopub.status.idle": "2023-09-04T01:32:02.232996Z",
     "shell.execute_reply": "2023-09-04T01:32:02.232034Z"
    },
    "papermill": {
     "duration": 0.127082,
     "end_time": "2023-09-04T01:32:02.235446",
     "exception": false,
     "start_time": "2023-09-04T01:32:02.108364",
     "status": "completed"
    },
    "tags": []
   },
   "outputs": [
    {
     "data": {
      "text/plain": [
       "tensor([27555.3477, 27546.7598, 27547.0957,  ..., 27559.9883, 27555.8984,\n",
       "        27556.0078], grad_fn=<ReshapeAliasBackward0>)"
      ]
     },
     "execution_count": 10,
     "metadata": {},
     "output_type": "execute_result"
    }
   ],
   "source": [
    "model = TileModel()\n",
    "\n",
    "data = dataset[0]\n",
    "\n",
    "model(data['node_feat'], data['node_opcode'], data['edge_index'], data['config_feat'])"
   ]
  }
 ],
 "kernelspec": {
  "display_name": "Python 3",
  "language": "python",
  "name": "python3"
 },
 "language_info": {
  "codemirror_mode": {
   "name": "ipython",
   "version": 3
  },
  "file_extension": ".py",
  "mimetype": "text/x-python",
  "name": "python",
  "nbconvert_exporter": "python",
  "pygments_lexer": "ipython3",
  "version": "3.6.4"
 },
 "metadata": {
  "kernelspec": {
   "display_name": "Python 3",
   "language": "python",
   "name": "python3"
  },
  "language_info": {
   "codemirror_mode": {
    "name": "ipython",
    "version": 3
   },
   "file_extension": ".py",
   "mimetype": "text/x-python",
   "name": "python",
   "nbconvert_exporter": "python",
   "pygments_lexer": "ipython3",
   "version": "3.10.12"
  },
  "papermill": {
   "default_parameters": {},
   "duration": 90.43451,
   "end_time": "2023-09-04T01:32:03.673373",
   "environment_variables": {},
   "exception": null,
   "input_path": "__notebook__.ipynb",
   "output_path": "__notebook__.ipynb",
   "parameters": {},
   "start_time": "2023-09-04T01:30:33.238863",
   "version": "2.4.0"
  }
 },
 "nbformat": 4,
 "nbformat_minor": 5
}
