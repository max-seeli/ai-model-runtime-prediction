{
 "cells": [
  {
   "cell_type": "code",
   "execution_count": 1,
   "id": "de7ad4fd",
   "metadata": {
    "execution": {
     "iopub.execute_input": "2023-09-09T22:38:39.529029Z",
     "iopub.status.busy": "2023-09-09T22:38:39.528665Z",
     "iopub.status.idle": "2023-09-09T22:39:08.100877Z",
     "shell.execute_reply": "2023-09-09T22:39:08.099771Z"
    },
    "papermill": {
     "duration": 28.584983,
     "end_time": "2023-09-09T22:39:08.103313",
     "exception": false,
     "start_time": "2023-09-09T22:38:39.518330",
     "status": "completed"
    },
    "tags": []
   },
   "outputs": [
    {
     "name": "stdout",
     "output_type": "stream",
     "text": [
      "Collecting torch-geometric\r\n",
      "  Downloading torch_geometric-2.3.1.tar.gz (661 kB)\r\n",
      "\u001b[2K     \u001b[90m━━━━━━━━━━━━━━━━━━━━━━━━━━━━━━━━━━━━━━━\u001b[0m \u001b[32m661.6/661.6 kB\u001b[0m \u001b[31m9.5 MB/s\u001b[0m eta \u001b[36m0:00:00\u001b[0m\r\n",
      "\u001b[?25h  Installing build dependencies ... \u001b[?25l-\b \b\\\b \b|\b \b/\b \b-\b \bdone\r\n",
      "\u001b[?25h  Getting requirements to build wheel ... \u001b[?25l-\b \bdone\r\n",
      "\u001b[?25h  Preparing metadata (pyproject.toml) ... \u001b[?25l-\b \bdone\r\n",
      "\u001b[?25hRequirement already satisfied: tqdm in /opt/conda/lib/python3.10/site-packages (from torch-geometric) (4.66.1)\r\n",
      "Requirement already satisfied: numpy in /opt/conda/lib/python3.10/site-packages (from torch-geometric) (1.23.5)\r\n",
      "Requirement already satisfied: scipy in /opt/conda/lib/python3.10/site-packages (from torch-geometric) (1.11.2)\r\n",
      "Requirement already satisfied: jinja2 in /opt/conda/lib/python3.10/site-packages (from torch-geometric) (3.1.2)\r\n",
      "Requirement already satisfied: requests in /opt/conda/lib/python3.10/site-packages (from torch-geometric) (2.31.0)\r\n",
      "Requirement already satisfied: pyparsing in /opt/conda/lib/python3.10/site-packages (from torch-geometric) (3.0.9)\r\n",
      "Requirement already satisfied: scikit-learn in /opt/conda/lib/python3.10/site-packages (from torch-geometric) (1.2.2)\r\n",
      "Requirement already satisfied: psutil>=5.8.0 in /opt/conda/lib/python3.10/site-packages (from torch-geometric) (5.9.3)\r\n",
      "Requirement already satisfied: MarkupSafe>=2.0 in /opt/conda/lib/python3.10/site-packages (from jinja2->torch-geometric) (2.1.3)\r\n",
      "Requirement already satisfied: charset-normalizer<4,>=2 in /opt/conda/lib/python3.10/site-packages (from requests->torch-geometric) (3.1.0)\r\n",
      "Requirement already satisfied: idna<4,>=2.5 in /opt/conda/lib/python3.10/site-packages (from requests->torch-geometric) (3.4)\r\n",
      "Requirement already satisfied: urllib3<3,>=1.21.1 in /opt/conda/lib/python3.10/site-packages (from requests->torch-geometric) (1.26.15)\r\n",
      "Requirement already satisfied: certifi>=2017.4.17 in /opt/conda/lib/python3.10/site-packages (from requests->torch-geometric) (2023.7.22)\r\n",
      "Requirement already satisfied: joblib>=1.1.1 in /opt/conda/lib/python3.10/site-packages (from scikit-learn->torch-geometric) (1.3.2)\r\n",
      "Requirement already satisfied: threadpoolctl>=2.0.0 in /opt/conda/lib/python3.10/site-packages (from scikit-learn->torch-geometric) (3.1.0)\r\n",
      "Building wheels for collected packages: torch-geometric\r\n",
      "  Building wheel for torch-geometric (pyproject.toml) ... \u001b[?25l-\b \b\\\b \b|\b \b/\b \b-\b \b\\\b \bdone\r\n",
      "\u001b[?25h  Created wheel for torch-geometric: filename=torch_geometric-2.3.1-py3-none-any.whl size=910454 sha256=c675b76fa9562a22aef9c591377198b781f4f205f5eb1dda648ed35f83d851a2\r\n",
      "  Stored in directory: /root/.cache/pip/wheels/ac/dc/30/e2874821ff308ee67dcd7a66dbde912411e19e35a1addda028\r\n",
      "Successfully built torch-geometric\r\n",
      "Installing collected packages: torch-geometric\r\n",
      "Successfully installed torch-geometric-2.3.1\r\n"
     ]
    }
   ],
   "source": [
    "!pip install torch-geometric"
   ]
  },
  {
   "cell_type": "code",
   "execution_count": 2,
   "id": "ba6ca28c",
   "metadata": {
    "execution": {
     "iopub.execute_input": "2023-09-09T22:39:08.122685Z",
     "iopub.status.busy": "2023-09-09T22:39:08.122366Z",
     "iopub.status.idle": "2023-09-09T22:39:13.057554Z",
     "shell.execute_reply": "2023-09-09T22:39:13.056596Z"
    },
    "papermill": {
     "duration": 4.947416,
     "end_time": "2023-09-09T22:39:13.059995",
     "exception": false,
     "start_time": "2023-09-09T22:39:08.112579",
     "status": "completed"
    },
    "tags": []
   },
   "outputs": [
    {
     "name": "stderr",
     "output_type": "stream",
     "text": [
      "/opt/conda/lib/python3.10/site-packages/scipy/__init__.py:146: UserWarning: A NumPy version >=1.16.5 and <1.23.0 is required for this version of SciPy (detected version 1.23.5\n",
      "  warnings.warn(f\"A NumPy version >={np_minversion} and <{np_maxversion}\"\n"
     ]
    }
   ],
   "source": [
    "import os\n",
    "from tqdm import tqdm\n",
    "\n",
    "import numpy as np\n",
    "import pandas as pd\n",
    "\n",
    "import torch\n",
    "from torch import nn\n",
    "from torch import optim\n",
    "from torch.utils.data import Dataset, DataLoader\n",
    "from torch_geometric import nn as gnn\n",
    "\n",
    "from matplotlib import pyplot as plt"
   ]
  },
  {
   "cell_type": "code",
   "execution_count": 3,
   "id": "cd363827",
   "metadata": {
    "execution": {
     "iopub.execute_input": "2023-09-09T22:39:13.080582Z",
     "iopub.status.busy": "2023-09-09T22:39:13.078674Z",
     "iopub.status.idle": "2023-09-09T22:39:13.084153Z",
     "shell.execute_reply": "2023-09-09T22:39:13.083225Z"
    },
    "papermill": {
     "duration": 0.017331,
     "end_time": "2023-09-09T22:39:13.086184",
     "exception": false,
     "start_time": "2023-09-09T22:39:13.068853",
     "status": "completed"
    },
    "tags": []
   },
   "outputs": [],
   "source": [
    "splits = [\"train\", \"valid\", \"test\"]"
   ]
  },
  {
   "cell_type": "code",
   "execution_count": 4,
   "id": "155f72aa",
   "metadata": {
    "execution": {
     "iopub.execute_input": "2023-09-09T22:39:13.104491Z",
     "iopub.status.busy": "2023-09-09T22:39:13.104213Z",
     "iopub.status.idle": "2023-09-09T22:39:13.108919Z",
     "shell.execute_reply": "2023-09-09T22:39:13.107927Z"
    },
    "papermill": {
     "duration": 0.016252,
     "end_time": "2023-09-09T22:39:13.110927",
     "exception": false,
     "start_time": "2023-09-09T22:39:13.094675",
     "status": "completed"
    },
    "tags": []
   },
   "outputs": [],
   "source": [
    "layout_nlp_default = '/kaggle/input/predict-ai-model-runtime/npz_all/npz/layout/nlp/default'\n",
    "layout_nlp_random = '/kaggle/input/predict-ai-model-runtime/npz_all/npz/layout/nlp/random'\n",
    "layout_xla_default = '/kaggle/input/predict-ai-model-runtime/npz_all/npz/layout/xla/default'\n",
    "layout_xla_random = '/kaggle/input/predict-ai-model-runtime/npz_all/npz/layout/xla/random'\n",
    "\n",
    "tile_xla = '/kaggle/input/predict-ai-model-runtime/npz_all/npz/tile/xla'"
   ]
  },
  {
   "cell_type": "code",
   "execution_count": 5,
   "id": "5613d92e",
   "metadata": {
    "execution": {
     "iopub.execute_input": "2023-09-09T22:39:13.130172Z",
     "iopub.status.busy": "2023-09-09T22:39:13.129350Z",
     "iopub.status.idle": "2023-09-09T22:39:13.135380Z",
     "shell.execute_reply": "2023-09-09T22:39:13.134580Z"
    },
    "papermill": {
     "duration": 0.017808,
     "end_time": "2023-09-09T22:39:13.137364",
     "exception": false,
     "start_time": "2023-09-09T22:39:13.119556",
     "status": "completed"
    },
    "tags": []
   },
   "outputs": [],
   "source": [
    "def load_data_to_df(directory, split):\n",
    "\n",
    "    path = os.path.join(directory, split)\n",
    "    print(path)\n",
    "    files = [os.path.join(path, file) for file in os.listdir(path)]\n",
    "    \n",
    "    data_list = []\n",
    "    for file in tqdm(files):\n",
    "        data_list.append(dict(np.load(file)))\n",
    "        \n",
    "    return pd.DataFrame(data_list)"
   ]
  },
  {
   "cell_type": "code",
   "execution_count": 6,
   "id": "520e8f35",
   "metadata": {
    "execution": {
     "iopub.execute_input": "2023-09-09T22:39:13.156507Z",
     "iopub.status.busy": "2023-09-09T22:39:13.155090Z",
     "iopub.status.idle": "2023-09-09T22:39:58.579333Z",
     "shell.execute_reply": "2023-09-09T22:39:58.577609Z"
    },
    "papermill": {
     "duration": 45.43561,
     "end_time": "2023-09-09T22:39:58.581377",
     "exception": false,
     "start_time": "2023-09-09T22:39:13.145767",
     "status": "completed"
    },
    "tags": []
   },
   "outputs": [
    {
     "name": "stdout",
     "output_type": "stream",
     "text": [
      "/kaggle/input/predict-ai-model-runtime/npz_all/npz/tile/xla/train\n"
     ]
    },
    {
     "name": "stderr",
     "output_type": "stream",
     "text": [
      "100%|██████████| 5709/5709 [00:41<00:00, 139.02it/s]\n"
     ]
    },
    {
     "name": "stdout",
     "output_type": "stream",
     "text": [
      "/kaggle/input/predict-ai-model-runtime/npz_all/npz/tile/xla/valid\n"
     ]
    },
    {
     "name": "stderr",
     "output_type": "stream",
     "text": [
      "100%|██████████| 676/676 [00:04<00:00, 167.45it/s]\n"
     ]
    }
   ],
   "source": [
    "df_train = load_data_to_df(tile_xla, \"train\")\n",
    "df_valid = load_data_to_df(tile_xla, \"valid\")"
   ]
  },
  {
   "cell_type": "code",
   "execution_count": 7,
   "id": "c52889a0",
   "metadata": {
    "execution": {
     "iopub.execute_input": "2023-09-09T22:39:58.664041Z",
     "iopub.status.busy": "2023-09-09T22:39:58.663722Z",
     "iopub.status.idle": "2023-09-09T22:39:58.673996Z",
     "shell.execute_reply": "2023-09-09T22:39:58.673043Z"
    },
    "papermill": {
     "duration": 0.053708,
     "end_time": "2023-09-09T22:39:58.676213",
     "exception": false,
     "start_time": "2023-09-09T22:39:58.622505",
     "status": "completed"
    },
    "tags": []
   },
   "outputs": [],
   "source": [
    "class TileModel(nn.Module):\n",
    "    \n",
    "    def __init__(self):\n",
    "        super().__init__()\n",
    "        \n",
    "        op_embedding_dim = 8\n",
    "        self.opcode_embedding = nn.Embedding(120, op_embedding_dim)\n",
    "        \n",
    "        node_feature_dim = 140\n",
    "        \n",
    "        conv_out_dim = 48\n",
    "        self.conv = gnn.GCNConv(op_embedding_dim + node_feature_dim, conv_out_dim)\n",
    "        \n",
    "        config_dim = 24\n",
    "        self.fwd = nn.Sequential(\n",
    "            nn.Linear(conv_out_dim + config_dim, 48),\n",
    "            nn.ReLU(),\n",
    "            nn.Linear(48, 48),\n",
    "            nn.ReLU(),\n",
    "            nn.Linear(48, 1)\n",
    "        )\n",
    "        \n",
    "        \n",
    "    def forward(self, node_feat, node_opcode, edge_index, config_feat):\n",
    "        \"\"\"\n",
    "            Shapes:\n",
    "                node_feat    - (n, 140)\n",
    "                node_opcode  - (n, )\n",
    "                edge_index   - (m, 2)\n",
    "                config_feat  - (c, 24)\n",
    "            \n",
    "            Approach:\n",
    "                1. Opcode embeddings\n",
    "                2. Concatenate embeddings to node feature-vector\n",
    "                3. Convolutional layer for node embeddings\n",
    "                4. Pooling for graph embedding\n",
    "                5. Concatenate configuration feature-vector to graph embedding\n",
    "                6. Forward layer\n",
    "                7. Flatten\n",
    "            \n",
    "            Approach is inline with the paper Phitchaya Mangpo Phothilimthana et. al (2023) \n",
    "        \"\"\"\n",
    "        node_opcode_embedding = self.opcode_embedding(node_opcode) # (n, 8)\n",
    "        \n",
    "        x = torch.concat([node_feat, node_opcode_embedding], dim = 1) # (n, 148)\n",
    "        \n",
    "        x = self.conv(x, edge_index) # (n, 48)\n",
    "                \n",
    "        x = torch.mean(x, 0) # (48, )    \n",
    "            \n",
    "        x = x.repeat(len(config_feat), 1) # (c, 48)\n",
    "        \n",
    "        x = torch.concat([x, config_feat], dim = 1) # (c, 72)\n",
    "        \n",
    "        x = self.fwd(x) # (c, 1)\n",
    "        \n",
    "        return torch.flatten(x) # (c, )\n",
    "        "
   ]
  },
  {
   "cell_type": "code",
   "execution_count": 8,
   "id": "72ec206f",
   "metadata": {
    "execution": {
     "iopub.execute_input": "2023-09-09T22:39:58.759570Z",
     "iopub.status.busy": "2023-09-09T22:39:58.758634Z",
     "iopub.status.idle": "2023-09-09T22:39:58.769102Z",
     "shell.execute_reply": "2023-09-09T22:39:58.768103Z"
    },
    "papermill": {
     "duration": 0.054565,
     "end_time": "2023-09-09T22:39:58.771423",
     "exception": false,
     "start_time": "2023-09-09T22:39:58.716858",
     "status": "completed"
    },
    "tags": []
   },
   "outputs": [],
   "source": [
    "class TileDataset(Dataset):\n",
    "    \n",
    "    def __init__(self, tiles):\n",
    "        self.tiles = tiles\n",
    "    \n",
    "    def __len__(self):\n",
    "        return len(self.tiles)\n",
    "    \n",
    "    def __getitem__(self, idx):\n",
    "        \n",
    "        node_feat = torch.from_numpy(self.tiles.iloc[idx]['node_feat'])\n",
    "        node_opcode = torch.from_numpy(self.tiles.iloc[idx]['node_opcode']).type(torch.int64)\n",
    "        edge_index = torch.from_numpy(self.tiles.iloc[idx]['edge_index']).permute(1, 0)\n",
    "        config_feat = torch.from_numpy(self.tiles.iloc[idx]['config_feat'])\n",
    "        config_runtime = torch.from_numpy(self.tiles.iloc[idx]['config_runtime'])\n",
    "        config_runtime_normalizers = torch.from_numpy(self.tiles.iloc[idx]['config_runtime_normalizers'])\n",
    "        \n",
    "        return {\n",
    "            \"node_feat\": node_feat,\n",
    "            \"node_opcode\": node_opcode,\n",
    "            \"edge_index\": edge_index,\n",
    "            \"config_feat\": config_feat,\n",
    "            \"y\": config_runtime / config_runtime_normalizers\n",
    "        }\n",
    "    \n",
    "    def __iter__(self):\n",
    "        self.i = 0\n",
    "        return self\n",
    "    \n",
    "    def __next__(self):\n",
    "        if self.i < len(self.tiles):\n",
    "            item = self[self.i]\n",
    "            self.i += 1\n",
    "            return item\n",
    "        else:\n",
    "            raise StopIteration\n",
    "    \n",
    "train_dataset = TileDataset(df_train)\n",
    "valid_dataset = TileDataset(df_valid)"
   ]
  },
  {
   "cell_type": "code",
   "execution_count": 9,
   "id": "bbb58a1f",
   "metadata": {
    "execution": {
     "iopub.execute_input": "2023-09-09T22:39:58.853201Z",
     "iopub.status.busy": "2023-09-09T22:39:58.852862Z",
     "iopub.status.idle": "2023-09-09T22:39:58.949075Z",
     "shell.execute_reply": "2023-09-09T22:39:58.947832Z"
    },
    "papermill": {
     "duration": 0.141194,
     "end_time": "2023-09-09T22:39:58.952487",
     "exception": false,
     "start_time": "2023-09-09T22:39:58.811293",
     "status": "completed"
    },
    "tags": []
   },
   "outputs": [
    {
     "name": "stdout",
     "output_type": "stream",
     "text": [
      "node_feat has type torch.float32 and 31 items\n",
      "node_opcode has type torch.int64 and 31 items\n",
      "edge_index has type torch.int64 and 2 items\n",
      "config_feat has type torch.float32 and 1537 items\n",
      "y has type torch.float32 and 1537 items\n"
     ]
    },
    {
     "data": {
      "text/plain": [
       "{'node_feat': tensor([[0., 0., 0.,  ..., 0., 0., 0.],\n",
       "         [0., 0., 0.,  ..., 0., 0., 0.],\n",
       "         [1., 0., 0.,  ..., 0., 0., 0.],\n",
       "         ...,\n",
       "         [0., 0., 0.,  ..., 1., 0., 0.],\n",
       "         [0., 0., 0.,  ..., 1., 0., 0.],\n",
       "         [1., 0., 0.,  ..., 0., 0., 0.]]),\n",
       " 'node_opcode': tensor([ 63,  63,   2,  63,  63,   2,  63,  11,  63,  11,  63,  24,  13,  59,\n",
       "          63,  41,  63,  41,  26,  25,   2,  59,  24,  70,  59,  70, 100,  63,\n",
       "          63,  63,  41]),\n",
       " 'edge_index': tensor([[ 2,  2,  5,  5,  7,  9, 12, 13, 13, 15, 15, 17, 17, 18, 18, 19, 20, 20,\n",
       "          21, 23, 23, 23, 24, 25, 25, 25, 26, 26, 26, 30, 30, 30, 30],\n",
       "         [ 0,  1,  3,  4,  6,  8, 11, 10, 12,  7, 14,  9, 16, 15, 17, 18, 13, 19,\n",
       "          20,  2, 21, 22, 10,  5, 22, 24, 18, 23, 25, 26, 27, 28, 29]]),\n",
       " 'config_feat': tensor([[16., 16.,  1.,  ...,  0.,  0.,  0.],\n",
       "         [ 3.,  2.,  1.,  ...,  0.,  0.,  0.],\n",
       "         [ 1., 14.,  1.,  ...,  0.,  0.,  0.],\n",
       "         ...,\n",
       "         [20., 20.,  1.,  ...,  0.,  0.,  0.],\n",
       "         [ 3., 80.,  1.,  ...,  0.,  0.,  0.],\n",
       "         [80.,  3.,  1.,  ...,  0.,  0.,  0.]]),\n",
       " 'y': tensor([ 1.0000, 21.1916,  7.8567,  ...,  1.1690,  1.0112,  1.0165])}"
      ]
     },
     "execution_count": 9,
     "metadata": {},
     "output_type": "execute_result"
    }
   ],
   "source": [
    "for key in train_dataset[0].keys():\n",
    "    print(f\"{key} has type {train_dataset[0][key].dtype} and {len(train_dataset[0][key])} items\")\n",
    "    \n",
    "train_dataset[0]"
   ]
  },
  {
   "cell_type": "code",
   "execution_count": 10,
   "id": "4286039a",
   "metadata": {
    "execution": {
     "iopub.execute_input": "2023-09-09T22:39:59.034414Z",
     "iopub.status.busy": "2023-09-09T22:39:59.034021Z",
     "iopub.status.idle": "2023-09-09T22:39:59.115095Z",
     "shell.execute_reply": "2023-09-09T22:39:59.114029Z"
    },
    "papermill": {
     "duration": 0.124495,
     "end_time": "2023-09-09T22:39:59.117468",
     "exception": false,
     "start_time": "2023-09-09T22:39:58.992973",
     "status": "completed"
    },
    "tags": []
   },
   "outputs": [
    {
     "data": {
      "text/plain": [
       "tensor([20378.0469, 20381.6914, 20381.5215,  ..., 20375.9316, 20377.6543,\n",
       "        20377.6953], grad_fn=<ReshapeAliasBackward0>)"
      ]
     },
     "execution_count": 10,
     "metadata": {},
     "output_type": "execute_result"
    }
   ],
   "source": [
    "model = TileModel()\n",
    "\n",
    "data = train_dataset[0]\n",
    "\n",
    "model(data['node_feat'], data['node_opcode'], data['edge_index'], data['config_feat'])"
   ]
  },
  {
   "cell_type": "code",
   "execution_count": 11,
   "id": "6b8b1083",
   "metadata": {
    "execution": {
     "iopub.execute_input": "2023-09-09T22:39:59.251980Z",
     "iopub.status.busy": "2023-09-09T22:39:59.251633Z",
     "iopub.status.idle": "2023-09-09T22:39:59.257797Z",
     "shell.execute_reply": "2023-09-09T22:39:59.256903Z"
    },
    "papermill": {
     "duration": 0.052644,
     "end_time": "2023-09-09T22:39:59.260101",
     "exception": false,
     "start_time": "2023-09-09T22:39:59.207457",
     "status": "completed"
    },
    "tags": []
   },
   "outputs": [
    {
     "name": "stdout",
     "output_type": "stream",
     "text": [
      "Total parameters in the model: 14017\n"
     ]
    }
   ],
   "source": [
    "# Count the number of parameters\n",
    "total_params = sum(p.numel() for p in model.parameters())\n",
    "print(f\"Total parameters in the model: {total_params}\")"
   ]
  },
  {
   "cell_type": "markdown",
   "id": "50c65bd7",
   "metadata": {
    "papermill": {
     "duration": 0.040061,
     "end_time": "2023-09-09T22:39:59.341155",
     "exception": false,
     "start_time": "2023-09-09T22:39:59.301094",
     "status": "completed"
    },
    "tags": []
   },
   "source": [
    "## Training"
   ]
  },
  {
   "cell_type": "code",
   "execution_count": 12,
   "id": "14962bc8",
   "metadata": {
    "execution": {
     "iopub.execute_input": "2023-09-09T22:39:59.424636Z",
     "iopub.status.busy": "2023-09-09T22:39:59.423811Z",
     "iopub.status.idle": "2023-09-09T22:43:18.417856Z",
     "shell.execute_reply": "2023-09-09T22:43:18.416834Z"
    },
    "papermill": {
     "duration": 199.040201,
     "end_time": "2023-09-09T22:43:18.421691",
     "exception": false,
     "start_time": "2023-09-09T22:39:59.381490",
     "status": "completed"
    },
    "tags": []
   },
   "outputs": [
    {
     "name": "stderr",
     "output_type": "stream",
     "text": [
      "Epoch 0: 100%|██████████| 5709/5709 [00:19<00:00, 287.10it/s]\n",
      "Loss Epoch 0: 100%|██████████| 676/676 [00:01<00:00, 546.38it/s]\n",
      "Epoch 1: 100%|██████████| 5709/5709 [00:18<00:00, 311.38it/s]\n",
      "Loss Epoch 1: 100%|██████████| 676/676 [00:01<00:00, 536.95it/s]\n",
      "Epoch 2: 100%|██████████| 5709/5709 [00:18<00:00, 317.13it/s]\n",
      "Loss Epoch 2: 100%|██████████| 676/676 [00:01<00:00, 555.43it/s]\n",
      "Epoch 3: 100%|██████████| 5709/5709 [00:18<00:00, 312.64it/s]\n",
      "Loss Epoch 3: 100%|██████████| 676/676 [00:01<00:00, 574.29it/s]\n",
      "Epoch 4: 100%|██████████| 5709/5709 [00:18<00:00, 309.35it/s]\n",
      "Loss Epoch 4: 100%|██████████| 676/676 [00:01<00:00, 567.02it/s]\n",
      "Epoch 5: 100%|██████████| 5709/5709 [00:17<00:00, 318.32it/s]\n",
      "Loss Epoch 5: 100%|██████████| 676/676 [00:01<00:00, 551.96it/s]\n",
      "Epoch 6: 100%|██████████| 5709/5709 [00:18<00:00, 313.73it/s]\n",
      "Loss Epoch 6: 100%|██████████| 676/676 [00:01<00:00, 565.37it/s]\n",
      "Epoch 7: 100%|██████████| 5709/5709 [00:17<00:00, 319.39it/s]\n",
      "Loss Epoch 7: 100%|██████████| 676/676 [00:01<00:00, 496.72it/s]\n",
      "Epoch 8: 100%|██████████| 5709/5709 [00:18<00:00, 316.20it/s]\n",
      "Loss Epoch 8: 100%|██████████| 676/676 [00:01<00:00, 575.12it/s]\n",
      "Epoch 9: 100%|██████████| 5709/5709 [00:18<00:00, 311.29it/s]\n",
      "Loss Epoch 9: 100%|██████████| 676/676 [00:01<00:00, 565.51it/s]\n"
     ]
    }
   ],
   "source": [
    "device = \"cuda\" if torch.cuda.is_available() else \"cpu\"\n",
    "\n",
    "model = TileModel().to(device)\n",
    "loss_fn = nn.MSELoss()\n",
    "optimizer = torch.optim.Adam(model.parameters(), lr=0.1)\n",
    "\n",
    "model.train()\n",
    "\n",
    "epochs = 10\n",
    "losses = []\n",
    "\n",
    "for i in range(epochs):\n",
    "    for tile in tqdm(train_dataset, desc=\"Epoch \" + str(i)):\n",
    "    \n",
    "        node_feat = tile[\"node_feat\"].to(device)\n",
    "        node_opcode = tile[\"node_opcode\"].to(device)\n",
    "        edge_index = tile[\"edge_index\"].to(device)\n",
    "        config_feat = tile[\"config_feat\"].to(device)\n",
    "    \n",
    "    \n",
    "        pred = model(node_feat, node_opcode, edge_index, config_feat).to(\"cpu\")\n",
    "        loss = loss_fn(pred, tile[\"y\"])\n",
    "        \n",
    "        optimizer.zero_grad()\n",
    "        loss.backward()\n",
    "        optimizer.step()\n",
    "    \n",
    "    \n",
    "    \n",
    "    current_losses = 0\n",
    "\n",
    "    for tile in tqdm(valid_dataset, desc=\"Loss Epoch \" + str(i)):\n",
    "        node_feat = tile[\"node_feat\"].to(device)\n",
    "        node_opcode = tile[\"node_opcode\"].to(device)\n",
    "        edge_index = tile[\"edge_index\"].to(device)\n",
    "        config_feat = tile[\"config_feat\"].to(device)\n",
    "    \n",
    "    \n",
    "        pred = model(node_feat, node_opcode, edge_index, config_feat).to(\"cpu\")\n",
    "        loss = loss_fn(pred, tile[\"y\"])\n",
    "        current_losses += loss.item()\n",
    "    \n",
    "    losses.append(current_losses / len(train_dataset))    \n",
    "    "
   ]
  },
  {
   "cell_type": "code",
   "execution_count": 13,
   "id": "68d7b700",
   "metadata": {
    "execution": {
     "iopub.execute_input": "2023-09-09T22:43:18.793910Z",
     "iopub.status.busy": "2023-09-09T22:43:18.793520Z",
     "iopub.status.idle": "2023-09-09T22:43:19.056551Z",
     "shell.execute_reply": "2023-09-09T22:43:19.055457Z"
    },
    "papermill": {
     "duration": 0.448934,
     "end_time": "2023-09-09T22:43:19.058524",
     "exception": false,
     "start_time": "2023-09-09T22:43:18.609590",
     "status": "completed"
    },
    "tags": []
   },
   "outputs": [
    {
     "data": {
      "text/plain": [
       "[3.5653800841993157,\n",
       " 3.5653710548212447,\n",
       " 3.566595951047915,\n",
       " 3.56534250447829,\n",
       " 3.5651856196659586,\n",
       " 3.5651862596667865,\n",
       " 3.5652051315685145,\n",
       " 3.567117955183937,\n",
       " 3.5677393888253675,\n",
       " 3.567739338606706]"
      ]
     },
     "execution_count": 13,
     "metadata": {},
     "output_type": "execute_result"
    },
    {
     "data": {
      "image/png": "[encoded data removed]",
      "text/plain": [
       "<Figure size 640x480 with 1 Axes>"
      ]
     },
     "metadata": {},
     "output_type": "display_data"
    }
   ],
   "source": [
    "# Plot losses\n",
    "plt.plot(losses)\n",
    "losses"
   ]
  },
  {
   "cell_type": "code",
   "execution_count": 14,
   "id": "af110176",
   "metadata": {
    "execution": {
     "iopub.execute_input": "2023-09-09T22:43:19.423613Z",
     "iopub.status.busy": "2023-09-09T22:43:19.423232Z",
     "iopub.status.idle": "2023-09-09T22:43:19.432177Z",
     "shell.execute_reply": "2023-09-09T22:43:19.431090Z"
    },
    "papermill": {
     "duration": 0.194395,
     "end_time": "2023-09-09T22:43:19.434642",
     "exception": false,
     "start_time": "2023-09-09T22:43:19.240247",
     "status": "completed"
    },
    "tags": []
   },
   "outputs": [],
   "source": [
    "def validate_model(model):\n",
    "    \n",
    "    \n",
    "    # Make predictions\n",
    "    predictions = []\n",
    "\n",
    "    model.eval()\n",
    "\n",
    "    for tile in tqdm(valid_dataset):\n",
    "        node_feat = tile[\"node_feat\"].to(device)\n",
    "        node_opcode = tile[\"node_opcode\"].to(device)\n",
    "        edge_index = tile[\"edge_index\"].to(device)\n",
    "        config_feat = tile[\"config_feat\"].to(device)\n",
    "    \n",
    "        out = model(node_feat, node_opcode, edge_index, config_feat).to(\"cpu\")\n",
    "        predictions.append(torch.sort(out).indices)\n",
    "\n",
    "    # Calculate score\n",
    "    score = 0.0\n",
    "\n",
    "    for i, tile in tqdm(enumerate(valid_dataset), total=len(valid_dataset)):\n",
    "        best_prediction = min([valid_dataset[i][\"y\"][pred_ind] for pred_ind in predictions[i][:5]])\n",
    "        best_total = min(valid_dataset[i][\"y\"])\n",
    "        score += 2.0 - best_prediction / best_total\n",
    "\n",
    "    avg_score = score / len(valid_dataset)\n",
    "    print(\"Score:\", avg_score)\n",
    "    return avg_score\n",
    "    "
   ]
  },
  {
   "cell_type": "code",
   "execution_count": 15,
   "id": "16f35635",
   "metadata": {
    "execution": {
     "iopub.execute_input": "2023-09-09T22:43:19.801336Z",
     "iopub.status.busy": "2023-09-09T22:43:19.800978Z",
     "iopub.status.idle": "2023-09-09T22:43:28.133344Z",
     "shell.execute_reply": "2023-09-09T22:43:28.132318Z"
    },
    "papermill": {
     "duration": 8.518521,
     "end_time": "2023-09-09T22:43:28.135712",
     "exception": false,
     "start_time": "2023-09-09T22:43:19.617191",
     "status": "completed"
    },
    "tags": []
   },
   "outputs": [
    {
     "name": "stderr",
     "output_type": "stream",
     "text": [
      "100%|██████████| 676/676 [00:01<00:00, 574.34it/s]\n",
      "100%|██████████| 676/676 [00:07<00:00, 94.71it/s] "
     ]
    },
    {
     "name": "stdout",
     "output_type": "stream",
     "text": [
      "Score: tensor(0.4396)\n"
     ]
    },
    {
     "name": "stderr",
     "output_type": "stream",
     "text": [
      "\n"
     ]
    },
    {
     "data": {
      "text/plain": [
       "tensor(0.4396)"
      ]
     },
     "execution_count": 15,
     "metadata": {},
     "output_type": "execute_result"
    }
   ],
   "source": [
    "validate_model(model)"
   ]
  }
 ],
 "kernelspec": {
  "display_name": "Python 3",
  "language": "python",
  "name": "python3"
 },
 "language_info": {
  "codemirror_mode": {
   "name": "ipython",
   "version": 3
  },
  "file_extension": ".py",
  "mimetype": "text/x-python",
  "name": "python",
  "nbconvert_exporter": "python",
  "pygments_lexer": "ipython3",
  "version": "3.6.4"
 },
 "metadata": {
  "kernelspec": {
   "display_name": "Python 3",
   "language": "python",
   "name": "python3"
  },
  "language_info": {
   "codemirror_mode": {
    "name": "ipython",
    "version": 3
   },
   "file_extension": ".py",
   "mimetype": "text/x-python",
   "name": "python",
   "nbconvert_exporter": "python",
   "pygments_lexer": "ipython3",
   "version": "3.10.12"
  },
  "papermill": {
   "default_parameters": {},
   "duration": 294.723648,
   "end_time": "2023-09-09T22:43:30.801276",
   "environment_variables": {},
   "exception": null,
   "input_path": "__notebook__.ipynb",
   "output_path": "__notebook__.ipynb",
   "parameters": {},
   "start_time": "2023-09-09T22:38:36.077628",
   "version": "2.4.0"
  }
 },
 "nbformat": 4,
 "nbformat_minor": 5
}
