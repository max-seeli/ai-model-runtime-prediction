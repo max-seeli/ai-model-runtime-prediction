{
 "cells": [
  {
   "cell_type": "code",
   "execution_count": 1,
   "id": "6d509dca",
   "metadata": {
    "execution": {
     "iopub.execute_input": "2023-09-11T01:13:02.983984Z",
     "iopub.status.busy": "2023-09-11T01:13:02.983604Z",
     "iopub.status.idle": "2023-09-11T01:13:31.288368Z",
     "shell.execute_reply": "2023-09-11T01:13:31.287267Z"
    },
    "papermill": {
     "duration": 28.318582,
     "end_time": "2023-09-11T01:13:31.290772",
     "exception": false,
     "start_time": "2023-09-11T01:13:02.972190",
     "status": "completed"
    },
    "tags": []
   },
   "outputs": [
    {
     "name": "stdout",
     "output_type": "stream",
     "text": [
      "Collecting torch-geometric\r\n",
      "  Downloading torch_geometric-2.3.1.tar.gz (661 kB)\r\n",
      "\u001b[2K     \u001b[90m━━━━━━━━━━━━━━━━━━━━━━━━━━━━━━━━━━━━━━\u001b[0m \u001b[32m661.6/661.6 kB\u001b[0m \u001b[31m15.1 MB/s\u001b[0m eta \u001b[36m0:00:00\u001b[0m\r\n",
      "\u001b[?25h  Installing build dependencies ... \u001b[?25l-\b \b\\\b \b|\b \b/\b \bdone\r\n",
      "\u001b[?25h  Getting requirements to build wheel ... \u001b[?25l-\b \bdone\r\n",
      "\u001b[?25h  Preparing metadata (pyproject.toml) ... \u001b[?25l-\b \bdone\r\n",
      "\u001b[?25hRequirement already satisfied: tqdm in /opt/conda/lib/python3.10/site-packages (from torch-geometric) (4.66.1)\r\n",
      "Requirement already satisfied: numpy in /opt/conda/lib/python3.10/site-packages (from torch-geometric) (1.23.5)\r\n",
      "Requirement already satisfied: scipy in /opt/conda/lib/python3.10/site-packages (from torch-geometric) (1.11.2)\r\n",
      "Requirement already satisfied: jinja2 in /opt/conda/lib/python3.10/site-packages (from torch-geometric) (3.1.2)\r\n",
      "Requirement already satisfied: requests in /opt/conda/lib/python3.10/site-packages (from torch-geometric) (2.31.0)\r\n",
      "Requirement already satisfied: pyparsing in /opt/conda/lib/python3.10/site-packages (from torch-geometric) (3.0.9)\r\n",
      "Requirement already satisfied: scikit-learn in /opt/conda/lib/python3.10/site-packages (from torch-geometric) (1.2.2)\r\n",
      "Requirement already satisfied: psutil>=5.8.0 in /opt/conda/lib/python3.10/site-packages (from torch-geometric) (5.9.3)\r\n",
      "Requirement already satisfied: MarkupSafe>=2.0 in /opt/conda/lib/python3.10/site-packages (from jinja2->torch-geometric) (2.1.3)\r\n",
      "Requirement already satisfied: charset-normalizer<4,>=2 in /opt/conda/lib/python3.10/site-packages (from requests->torch-geometric) (3.1.0)\r\n",
      "Requirement already satisfied: idna<4,>=2.5 in /opt/conda/lib/python3.10/site-packages (from requests->torch-geometric) (3.4)\r\n",
      "Requirement already satisfied: urllib3<3,>=1.21.1 in /opt/conda/lib/python3.10/site-packages (from requests->torch-geometric) (1.26.15)\r\n",
      "Requirement already satisfied: certifi>=2017.4.17 in /opt/conda/lib/python3.10/site-packages (from requests->torch-geometric) (2023.7.22)\r\n",
      "Requirement already satisfied: joblib>=1.1.1 in /opt/conda/lib/python3.10/site-packages (from scikit-learn->torch-geometric) (1.3.2)\r\n",
      "Requirement already satisfied: threadpoolctl>=2.0.0 in /opt/conda/lib/python3.10/site-packages (from scikit-learn->torch-geometric) (3.1.0)\r\n",
      "Building wheels for collected packages: torch-geometric\r\n",
      "  Building wheel for torch-geometric (pyproject.toml) ... \u001b[?25l-\b \b\\\b \b|\b \b/\b \b-\b \b\\\b \bdone\r\n",
      "\u001b[?25h  Created wheel for torch-geometric: filename=torch_geometric-2.3.1-py3-none-any.whl size=910454 sha256=5b3ee2b167d54861688d396573378cbe771e7a85a9dcff43568671487fcdd77e\r\n",
      "  Stored in directory: /root/.cache/pip/wheels/ac/dc/30/e2874821ff308ee67dcd7a66dbde912411e19e35a1addda028\r\n",
      "Successfully built torch-geometric\r\n",
      "Installing collected packages: torch-geometric\r\n",
      "Successfully installed torch-geometric-2.3.1\r\n"
     ]
    }
   ],
   "source": [
    "!pip install torch-geometric"
   ]
  },
  {
   "cell_type": "code",
   "execution_count": 2,
   "id": "fe2c941d",
   "metadata": {
    "execution": {
     "iopub.execute_input": "2023-09-11T01:13:31.311264Z",
     "iopub.status.busy": "2023-09-11T01:13:31.310960Z",
     "iopub.status.idle": "2023-09-11T01:13:36.394059Z",
     "shell.execute_reply": "2023-09-11T01:13:36.393046Z"
    },
    "papermill": {
     "duration": 5.095962,
     "end_time": "2023-09-11T01:13:36.396543",
     "exception": false,
     "start_time": "2023-09-11T01:13:31.300581",
     "status": "completed"
    },
    "tags": []
   },
   "outputs": [
    {
     "name": "stderr",
     "output_type": "stream",
     "text": [
      "/opt/conda/lib/python3.10/site-packages/scipy/__init__.py:146: UserWarning: A NumPy version >=1.16.5 and <1.23.0 is required for this version of SciPy (detected version 1.23.5\n",
      "  warnings.warn(f\"A NumPy version >={np_minversion} and <{np_maxversion}\"\n"
     ]
    }
   ],
   "source": [
    "import os\n",
    "from tqdm import tqdm\n",
    "\n",
    "import numpy as np\n",
    "import pandas as pd\n",
    "\n",
    "import torch\n",
    "from torch import nn\n",
    "from torch import optim\n",
    "import torch.nn.functional as F\n",
    "from torch.utils.data import Dataset, DataLoader\n",
    "from torch_geometric import nn as gnn\n",
    "\n",
    "from matplotlib import pyplot as plt"
   ]
  },
  {
   "cell_type": "code",
   "execution_count": 3,
   "id": "8ed45391",
   "metadata": {
    "execution": {
     "iopub.execute_input": "2023-09-11T01:13:36.418957Z",
     "iopub.status.busy": "2023-09-11T01:13:36.417154Z",
     "iopub.status.idle": "2023-09-11T01:13:36.423002Z",
     "shell.execute_reply": "2023-09-11T01:13:36.422144Z"
    },
    "papermill": {
     "duration": 0.01874,
     "end_time": "2023-09-11T01:13:36.424895",
     "exception": false,
     "start_time": "2023-09-11T01:13:36.406155",
     "status": "completed"
    },
    "tags": []
   },
   "outputs": [],
   "source": [
    "splits = [\"train\", \"valid\", \"test\"]"
   ]
  },
  {
   "cell_type": "code",
   "execution_count": 4,
   "id": "d70a3267",
   "metadata": {
    "execution": {
     "iopub.execute_input": "2023-09-11T01:13:36.445948Z",
     "iopub.status.busy": "2023-09-11T01:13:36.444522Z",
     "iopub.status.idle": "2023-09-11T01:13:36.450358Z",
     "shell.execute_reply": "2023-09-11T01:13:36.449452Z"
    },
    "papermill": {
     "duration": 0.018199,
     "end_time": "2023-09-11T01:13:36.452335",
     "exception": false,
     "start_time": "2023-09-11T01:13:36.434136",
     "status": "completed"
    },
    "tags": []
   },
   "outputs": [],
   "source": [
    "layout_nlp_default = '/kaggle/input/predict-ai-model-runtime/npz_all/npz/layout/nlp/default'\n",
    "layout_nlp_random = '/kaggle/input/predict-ai-model-runtime/npz_all/npz/layout/nlp/random'\n",
    "layout_xla_default = '/kaggle/input/predict-ai-model-runtime/npz_all/npz/layout/xla/default'\n",
    "layout_xla_random = '/kaggle/input/predict-ai-model-runtime/npz_all/npz/layout/xla/random'\n",
    "\n",
    "tile_xla = '/kaggle/input/predict-ai-model-runtime/npz_all/npz/tile/xla'"
   ]
  },
  {
   "cell_type": "code",
   "execution_count": 5,
   "id": "a92f8c05",
   "metadata": {
    "execution": {
     "iopub.execute_input": "2023-09-11T01:13:36.472267Z",
     "iopub.status.busy": "2023-09-11T01:13:36.471511Z",
     "iopub.status.idle": "2023-09-11T01:13:36.477650Z",
     "shell.execute_reply": "2023-09-11T01:13:36.476744Z"
    },
    "papermill": {
     "duration": 0.018218,
     "end_time": "2023-09-11T01:13:36.479715",
     "exception": false,
     "start_time": "2023-09-11T01:13:36.461497",
     "status": "completed"
    },
    "tags": []
   },
   "outputs": [],
   "source": [
    "def load_data_to_df(directory, split):\n",
    "\n",
    "    path = os.path.join(directory, split)\n",
    "    print(path)\n",
    "    files = os.listdir(path)\n",
    "    \n",
    "    data_list = []\n",
    "    for file in tqdm(files):\n",
    "        file_path = os.path.join(path, file)\n",
    "        model_graph = dict(np.load(file_path))\n",
    "        model_graph[\"file\"] = file\n",
    "        data_list.append(model_graph)\n",
    "        \n",
    "    return pd.DataFrame(data_list)"
   ]
  },
  {
   "cell_type": "code",
   "execution_count": 6,
   "id": "978a1922",
   "metadata": {
    "execution": {
     "iopub.execute_input": "2023-09-11T01:13:36.499340Z",
     "iopub.status.busy": "2023-09-11T01:13:36.499084Z",
     "iopub.status.idle": "2023-09-11T01:14:23.640836Z",
     "shell.execute_reply": "2023-09-11T01:14:23.639667Z"
    },
    "papermill": {
     "duration": 47.153784,
     "end_time": "2023-09-11T01:14:23.642826",
     "exception": false,
     "start_time": "2023-09-11T01:13:36.489042",
     "status": "completed"
    },
    "tags": []
   },
   "outputs": [
    {
     "name": "stdout",
     "output_type": "stream",
     "text": [
      "/kaggle/input/predict-ai-model-runtime/npz_all/npz/tile/xla/train\n"
     ]
    },
    {
     "name": "stderr",
     "output_type": "stream",
     "text": [
      "100%|██████████| 5709/5709 [00:37<00:00, 151.07it/s]\n"
     ]
    },
    {
     "name": "stdout",
     "output_type": "stream",
     "text": [
      "/kaggle/input/predict-ai-model-runtime/npz_all/npz/tile/xla/valid\n"
     ]
    },
    {
     "name": "stderr",
     "output_type": "stream",
     "text": [
      "100%|██████████| 676/676 [00:04<00:00, 162.60it/s]\n"
     ]
    },
    {
     "name": "stdout",
     "output_type": "stream",
     "text": [
      "/kaggle/input/predict-ai-model-runtime/npz_all/npz/tile/xla/test\n"
     ]
    },
    {
     "name": "stderr",
     "output_type": "stream",
     "text": [
      "100%|██████████| 844/844 [00:04<00:00, 170.23it/s]\n"
     ]
    }
   ],
   "source": [
    "df_train = load_data_to_df(tile_xla, \"train\")\n",
    "df_valid = load_data_to_df(tile_xla, \"valid\")\n",
    "df_test = load_data_to_df(tile_xla, \"test\")"
   ]
  },
  {
   "cell_type": "code",
   "execution_count": 7,
   "id": "10a8fcdb",
   "metadata": {
    "execution": {
     "iopub.execute_input": "2023-09-11T01:14:23.729451Z",
     "iopub.status.busy": "2023-09-11T01:14:23.729066Z",
     "iopub.status.idle": "2023-09-11T01:14:23.737562Z",
     "shell.execute_reply": "2023-09-11T01:14:23.736700Z"
    },
    "papermill": {
     "duration": 0.053794,
     "end_time": "2023-09-11T01:14:23.739609",
     "exception": false,
     "start_time": "2023-09-11T01:14:23.685815",
     "status": "completed"
    },
    "tags": []
   },
   "outputs": [],
   "source": [
    "class GAT(nn.Module):\n",
    "    def __init__(self, in_channels, hidden_channels, out_channels, heads):\n",
    "        super().__init__()\n",
    "        self.conv1 = gnn.GATConv(in_channels, hidden_channels, heads, dropout=0.6)\n",
    "        # On the Pubmed dataset, use `heads` output heads in `conv2`.\n",
    "        self.conv2 = gnn.GATConv(hidden_channels * heads, out_channels, heads=1,\n",
    "                             concat=False, dropout=0.6)\n",
    "\n",
    "    def forward(self, x, edge_index):\n",
    "        x = F.dropout(x, p=0.6, training=self.training)\n",
    "        x = F.elu(self.conv1(x, edge_index))\n",
    "        x = F.dropout(x, p=0.6, training=self.training)\n",
    "        x = self.conv2(x, edge_index)\n",
    "        return x\n"
   ]
  },
  {
   "cell_type": "code",
   "execution_count": 8,
   "id": "a6b5d94b",
   "metadata": {
    "execution": {
     "iopub.execute_input": "2023-09-11T01:14:23.826120Z",
     "iopub.status.busy": "2023-09-11T01:14:23.825794Z",
     "iopub.status.idle": "2023-09-11T01:14:23.836335Z",
     "shell.execute_reply": "2023-09-11T01:14:23.835324Z"
    },
    "papermill": {
     "duration": 0.057347,
     "end_time": "2023-09-11T01:14:23.838553",
     "exception": false,
     "start_time": "2023-09-11T01:14:23.781206",
     "status": "completed"
    },
    "tags": []
   },
   "outputs": [],
   "source": [
    "class TileModel(nn.Module):\n",
    "    \n",
    "    def __init__(self):\n",
    "        super().__init__()\n",
    "        \n",
    "        op_embedding_dim = 8\n",
    "        self.opcode_embedding = nn.Embedding(120, op_embedding_dim)\n",
    "        \n",
    "        node_feature_dim = 140\n",
    "        \n",
    "        hidden_channels = 8\n",
    "        heads = 8\n",
    "        conv_out_dim = 48\n",
    "        \n",
    "        self.conv = GAT(op_embedding_dim + node_feature_dim, hidden_channels, conv_out_dim, heads)\n",
    "        # self.conv = gnn.GCNConv(op_embedding_dim + node_feature_dim, conv_out_dim)\n",
    "        \n",
    "        config_dim = 24\n",
    "        self.fwd = nn.Sequential(\n",
    "            nn.Linear(conv_out_dim + config_dim, 48),\n",
    "            nn.ReLU(),\n",
    "            nn.Linear(48, 48),\n",
    "            nn.ReLU(),\n",
    "            nn.Linear(48, 1)\n",
    "        )\n",
    "        \n",
    "        \n",
    "    def forward(self, node_feat, node_opcode, edge_index, config_feat):\n",
    "        \"\"\"\n",
    "            Shapes:\n",
    "                node_feat    - (n, 140)\n",
    "                node_opcode  - (n, )\n",
    "                edge_index   - (m, 2)\n",
    "                config_feat  - (c, 24)\n",
    "            \n",
    "            Approach:\n",
    "                1. Opcode embeddings\n",
    "                2. Concatenate embeddings to node feature-vector\n",
    "                3. Convolutional layer for node embeddings\n",
    "                4. Pooling for graph embedding\n",
    "                5. Concatenate configuration feature-vector to graph embedding\n",
    "                6. Forward layer\n",
    "                7. Flatten\n",
    "            \n",
    "            Approach is inline with the paper Phitchaya Mangpo Phothilimthana et. al (2023) \n",
    "        \"\"\"\n",
    "        node_opcode_embedding = self.opcode_embedding(node_opcode) # (n, 8)\n",
    "        \n",
    "        x = torch.concat([node_feat, node_opcode_embedding], dim = 1) # (n, 148)\n",
    "        \n",
    "        x = self.conv(x, edge_index) # (n, 48)\n",
    "                \n",
    "        x = torch.mean(x, 0) # (48, )    \n",
    "            \n",
    "        x = x.repeat(len(config_feat), 1) # (c, 48)\n",
    "        \n",
    "        x = torch.concat([x, config_feat], dim = 1) # (c, 72)\n",
    "        \n",
    "        x = self.fwd(x) # (c, 1)\n",
    "        \n",
    "        return torch.flatten(x) # (c, )\n",
    "        "
   ]
  },
  {
   "cell_type": "code",
   "execution_count": 9,
   "id": "1e54c6d5",
   "metadata": {
    "execution": {
     "iopub.execute_input": "2023-09-11T01:14:23.925061Z",
     "iopub.status.busy": "2023-09-11T01:14:23.924741Z",
     "iopub.status.idle": "2023-09-11T01:14:23.935295Z",
     "shell.execute_reply": "2023-09-11T01:14:23.934326Z"
    },
    "papermill": {
     "duration": 0.055757,
     "end_time": "2023-09-11T01:14:23.937252",
     "exception": false,
     "start_time": "2023-09-11T01:14:23.881495",
     "status": "completed"
    },
    "tags": []
   },
   "outputs": [],
   "source": [
    "class TileDataset(Dataset):\n",
    "    \n",
    "    def __init__(self, tiles):\n",
    "        self.tiles = tiles\n",
    "    \n",
    "    def __len__(self):\n",
    "        return len(self.tiles)\n",
    "    \n",
    "    def __getitem__(self, idx):\n",
    "        \n",
    "        file = self.tiles.iloc[idx]['file']\n",
    "        node_feat = torch.from_numpy(self.tiles.iloc[idx]['node_feat'])\n",
    "        node_opcode = torch.from_numpy(self.tiles.iloc[idx]['node_opcode']).type(torch.int64)\n",
    "        edge_index = torch.from_numpy(self.tiles.iloc[idx]['edge_index']).permute(1, 0)\n",
    "        config_feat = torch.from_numpy(self.tiles.iloc[idx]['config_feat'])\n",
    "        config_runtime = torch.from_numpy(self.tiles.iloc[idx]['config_runtime'])\n",
    "        config_runtime_normalizers = torch.from_numpy(self.tiles.iloc[idx]['config_runtime_normalizers'])\n",
    "        \n",
    "        return {\n",
    "            \"file\": file,\n",
    "            \"node_feat\": node_feat,\n",
    "            \"node_opcode\": node_opcode,\n",
    "            \"edge_index\": edge_index,\n",
    "            \"config_feat\": config_feat,\n",
    "            \"y\": config_runtime / config_runtime_normalizers\n",
    "        }\n",
    "    \n",
    "    def __iter__(self):\n",
    "        self.i = 0\n",
    "        return self\n",
    "    \n",
    "    def __next__(self):\n",
    "        if self.i < len(self.tiles):\n",
    "            item = self[self.i]\n",
    "            self.i += 1\n",
    "            return item\n",
    "        else:\n",
    "            raise StopIteration\n",
    "    \n",
    "train_dataset = TileDataset(df_train)\n",
    "valid_dataset = TileDataset(df_valid)\n",
    "test_dataset = TileDataset(df_test)"
   ]
  },
  {
   "cell_type": "code",
   "execution_count": 10,
   "id": "1a99afad",
   "metadata": {
    "execution": {
     "iopub.execute_input": "2023-09-11T01:14:24.022369Z",
     "iopub.status.busy": "2023-09-11T01:14:24.022049Z",
     "iopub.status.idle": "2023-09-11T01:14:24.194792Z",
     "shell.execute_reply": "2023-09-11T01:14:24.193754Z"
    },
    "papermill": {
     "duration": 0.218914,
     "end_time": "2023-09-11T01:14:24.197668",
     "exception": false,
     "start_time": "2023-09-11T01:14:23.978754",
     "status": "completed"
    },
    "tags": []
   },
   "outputs": [
    {
     "data": {
      "text/plain": [
       "tensor([5107.0596, 5110.9238, 5110.7847,  ..., 5103.2891, 5107.1128,\n",
       "        5106.5981], grad_fn=<ReshapeAliasBackward0>)"
      ]
     },
     "execution_count": 10,
     "metadata": {},
     "output_type": "execute_result"
    }
   ],
   "source": [
    "model = TileModel()\n",
    "\n",
    "data = train_dataset[0]\n",
    "\n",
    "model(data['node_feat'], data['node_opcode'], data['edge_index'], data['config_feat'])"
   ]
  },
  {
   "cell_type": "code",
   "execution_count": 11,
   "id": "c27542e5",
   "metadata": {
    "execution": {
     "iopub.execute_input": "2023-09-11T01:14:24.326547Z",
     "iopub.status.busy": "2023-09-11T01:14:24.326142Z",
     "iopub.status.idle": "2023-09-11T01:14:24.332003Z",
     "shell.execute_reply": "2023-09-11T01:14:24.331081Z"
    },
    "papermill": {
     "duration": 0.052438,
     "end_time": "2023-09-11T01:14:24.334515",
     "exception": false,
     "start_time": "2023-09-11T01:14:24.282077",
     "status": "completed"
    },
    "tags": []
   },
   "outputs": [
    {
     "name": "stdout",
     "output_type": "stream",
     "text": [
      "Total parameters in the model: 19745\n"
     ]
    }
   ],
   "source": [
    "# Count the number of parameters\n",
    "total_params = sum(p.numel() for p in model.parameters())\n",
    "print(f\"Total parameters in the model: {total_params}\")"
   ]
  },
  {
   "cell_type": "markdown",
   "id": "6f5630b7",
   "metadata": {
    "papermill": {
     "duration": 0.041585,
     "end_time": "2023-09-11T01:14:24.419244",
     "exception": false,
     "start_time": "2023-09-11T01:14:24.377659",
     "status": "completed"
    },
    "tags": []
   },
   "source": [
    "## Training"
   ]
  },
  {
   "cell_type": "code",
   "execution_count": 12,
   "id": "6efe97d2",
   "metadata": {
    "execution": {
     "iopub.execute_input": "2023-09-11T01:14:24.507586Z",
     "iopub.status.busy": "2023-09-11T01:14:24.505737Z",
     "iopub.status.idle": "2023-09-11T01:19:53.236111Z",
     "shell.execute_reply": "2023-09-11T01:19:53.234933Z"
    },
    "papermill": {
     "duration": 328.818358,
     "end_time": "2023-09-11T01:19:53.280672",
     "exception": false,
     "start_time": "2023-09-11T01:14:24.462314",
     "status": "completed"
    },
    "tags": []
   },
   "outputs": [
    {
     "name": "stdout",
     "output_type": "stream",
     "text": [
      "Epoch: 1, Train Loss: 165791593421295.4, Valid Loss: 73.56312710293652\n",
      "Epoch: 2, Train Loss: 289692578138648.0, Valid Loss: 46.390057289036065\n",
      "Epoch: 3, Train Loss: 1253125703.5839903, Valid Loss: 46.51539447251156\n",
      "Epoch: 4, Train Loss: 30242428.15012961, Valid Loss: 47.01722163244112\n",
      "Epoch: 5, Train Loss: 757659465.5998391, Valid Loss: 42.6974915105563\n",
      "Epoch: 6, Train Loss: 54.80074416299984, Valid Loss: 30.278347714236503\n",
      "Epoch: 7, Train Loss: 2036.9717171739667, Valid Loss: 30.107208373631245\n",
      "Epoch: 8, Train Loss: 150.97492872900773, Valid Loss: 30.12721615042207\n",
      "Epoch: 9, Train Loss: 40.165743556169225, Valid Loss: 30.163752365747147\n",
      "Epoch: 10, Train Loss: 36.870609023469115, Valid Loss: 30.115585479157915\n"
     ]
    }
   ],
   "source": [
    "device = \"cuda\" if torch.cuda.is_available() else \"cpu\"\n",
    "\n",
    "model = TileModel().to(device)\n",
    "loss_fn = nn.MSELoss()\n",
    "optimizer = torch.optim.Adam(model.parameters(), lr=0.01)\n",
    "\n",
    "epochs = 10\n",
    "\n",
    "train_losses = np.empty((0,))\n",
    "valid_losses = np.empty((0,))\n",
    "    \n",
    "\n",
    "\n",
    "def train():\n",
    "    model.train()\n",
    "    \n",
    "    epoch_train_losses = np.empty((0,))\n",
    "    for tile in train_dataset:\n",
    "        \n",
    "        node_feat, node_opcode, edge_index, config_feat = tile[\"node_feat\"].to(device), tile[\"node_opcode\"].to(device), tile[\"edge_index\"].to(device), tile[\"config_feat\"].to(device)\n",
    "        \n",
    "        optimizer.zero_grad()\n",
    "        pred = model(node_feat, node_opcode, edge_index, config_feat).to(\"cpu\")\n",
    "        loss = loss_fn(pred, tile[\"y\"])\n",
    "                \n",
    "        loss.backward()\n",
    "        optimizer.step()\n",
    "        \n",
    "        epoch_train_losses = np.append(epoch_train_losses, loss.item())\n",
    "    return np.mean(epoch_train_losses)\n",
    "\n",
    "def test():\n",
    "    model.eval()\n",
    "    \n",
    "    epoch_valid_losses = np.empty((0,))\n",
    "    \n",
    "    with torch.no_grad():\n",
    "        for tile in valid_dataset:\n",
    "                \n",
    "            node_feat, node_opcode, edge_index, config_feat = tile[\"node_feat\"].to(device), tile[\"node_opcode\"].to(device), tile[\"edge_index\"].to(device), tile[\"config_feat\"].to(device)\n",
    "    \n",
    "            pred = model(node_feat, node_opcode, edge_index, config_feat).to(\"cpu\")\n",
    "            loss = loss_fn(pred, tile[\"y\"])\n",
    "            \n",
    "            epoch_valid_losses = np.append(epoch_valid_losses, loss.item())\n",
    "    return np.mean(epoch_valid_losses)\n",
    "\n",
    "\n",
    "for i in range(1, epochs + 1):\n",
    "    \n",
    "    train_loss = train()\n",
    "    valid_loss = test()\n",
    "    \n",
    "    train_losses = np.append(train_losses, train_loss)\n",
    "    valid_losses = np.append(valid_losses, valid_loss) \n",
    "    print(f\"Epoch: {i}, Train Loss: {train_losses[-1]}, Valid Loss: {valid_losses[-1]}\")\n"
   ]
  },
  {
   "cell_type": "code",
   "execution_count": 13,
   "id": "f981d6ab",
   "metadata": {
    "execution": {
     "iopub.execute_input": "2023-09-11T01:19:53.368591Z",
     "iopub.status.busy": "2023-09-11T01:19:53.368112Z",
     "iopub.status.idle": "2023-09-11T01:19:53.377446Z",
     "shell.execute_reply": "2023-09-11T01:19:53.376607Z"
    },
    "papermill": {
     "duration": 0.055616,
     "end_time": "2023-09-11T01:19:53.379384",
     "exception": false,
     "start_time": "2023-09-11T01:19:53.323768",
     "status": "completed"
    },
    "tags": []
   },
   "outputs": [],
   "source": [
    "# Store model\n",
    "torch.save(model.state_dict(), \"tile_model.pt\")"
   ]
  },
  {
   "cell_type": "code",
   "execution_count": 14,
   "id": "a2aedc41",
   "metadata": {
    "execution": {
     "iopub.execute_input": "2023-09-11T01:19:53.465679Z",
     "iopub.status.busy": "2023-09-11T01:19:53.465372Z",
     "iopub.status.idle": "2023-09-11T01:19:53.794159Z",
     "shell.execute_reply": "2023-09-11T01:19:53.793285Z"
    },
    "papermill": {
     "duration": 0.374374,
     "end_time": "2023-09-11T01:19:53.796240",
     "exception": false,
     "start_time": "2023-09-11T01:19:53.421866",
     "status": "completed"
    },
    "tags": []
   },
   "outputs": [
    {
     "data": {
      "image/png": "[encoded data removed]",
      "text/plain": [
       "<Figure size 640x480 with 2 Axes>"
      ]
     },
     "metadata": {},
     "output_type": "display_data"
    }
   ],
   "source": [
    "# Plot losses\n",
    "all_epochs = list(range(epochs))\n",
    "\n",
    "# create figure and axis objects with subplots()\n",
    "fig,ax = plt.subplots()\n",
    "# make a plot\n",
    "ax.plot(all_epochs,\n",
    "        valid_losses,\n",
    "        color=\"red\", \n",
    "        marker=\"o\")\n",
    "# set x-axis label\n",
    "ax.set_xlabel(\"Epoch\", fontsize = 14)\n",
    "# set y-axis label\n",
    "ax.set_ylabel(\"Valid\",\n",
    "              color=\"red\",\n",
    "              fontsize=14)\n",
    "\n",
    "# twin object for two different y-axis on the sample plot\n",
    "ax2=ax.twinx()\n",
    "# make a plot with different y-axis using second axis object\n",
    "ax2.plot(all_epochs, train_losses,color=\"blue\",marker=\"o\")\n",
    "ax2.set_ylabel(\"Train\",color=\"blue\",fontsize=14)\n",
    "plt.show()\n"
   ]
  },
  {
   "cell_type": "code",
   "execution_count": 15,
   "id": "72eac4b3",
   "metadata": {
    "execution": {
     "iopub.execute_input": "2023-09-11T01:19:53.885033Z",
     "iopub.status.busy": "2023-09-11T01:19:53.884031Z",
     "iopub.status.idle": "2023-09-11T01:19:53.890587Z",
     "shell.execute_reply": "2023-09-11T01:19:53.889660Z"
    },
    "papermill": {
     "duration": 0.052785,
     "end_time": "2023-09-11T01:19:53.892543",
     "exception": false,
     "start_time": "2023-09-11T01:19:53.839758",
     "status": "completed"
    },
    "tags": []
   },
   "outputs": [],
   "source": [
    "def predict(tile, model):\n",
    "    model = model.to(device)\n",
    "    node_feat = tile[\"node_feat\"].to(device)\n",
    "    node_opcode = tile[\"node_opcode\"].to(device)\n",
    "    edge_index = tile[\"edge_index\"].to(device)\n",
    "    config_feat = tile[\"config_feat\"].to(device)\n",
    "    \n",
    "    out = model(node_feat, node_opcode, edge_index, config_feat).to(\"cpu\")\n",
    "    return torch.sort(out).indices[:5]\n",
    "    "
   ]
  },
  {
   "cell_type": "code",
   "execution_count": 16,
   "id": "2a96bf30",
   "metadata": {
    "execution": {
     "iopub.execute_input": "2023-09-11T01:19:53.979855Z",
     "iopub.status.busy": "2023-09-11T01:19:53.979580Z",
     "iopub.status.idle": "2023-09-11T01:19:53.985048Z",
     "shell.execute_reply": "2023-09-11T01:19:53.984134Z"
    },
    "papermill": {
     "duration": 0.05174,
     "end_time": "2023-09-11T01:19:53.987069",
     "exception": false,
     "start_time": "2023-09-11T01:19:53.935329",
     "status": "completed"
    },
    "tags": []
   },
   "outputs": [],
   "source": [
    "def get_predictions_per_file(model, dataset):\n",
    "    \n",
    "    if isinstance(model, str):\n",
    "        state_dict = torch.load(model)\n",
    "        model = TileModel()\n",
    "        model.load_state_dict(state_dict)\n",
    "    \n",
    "    model.eval()\n",
    "    prediction_for_file = {}\n",
    "    \n",
    "    with torch.no_grad():\n",
    "        for tile in dataset:\n",
    "            prediction_for_file[tile[\"file\"]] = predict(tile, model)\n",
    "\n",
    "    return prediction_for_file"
   ]
  },
  {
   "cell_type": "code",
   "execution_count": 17,
   "id": "9b0fc9b6",
   "metadata": {
    "execution": {
     "iopub.execute_input": "2023-09-11T01:19:54.076356Z",
     "iopub.status.busy": "2023-09-11T01:19:54.076072Z",
     "iopub.status.idle": "2023-09-11T01:19:54.082557Z",
     "shell.execute_reply": "2023-09-11T01:19:54.081564Z"
    },
    "papermill": {
     "duration": 0.052994,
     "end_time": "2023-09-11T01:19:54.084615",
     "exception": false,
     "start_time": "2023-09-11T01:19:54.031621",
     "status": "completed"
    },
    "tags": []
   },
   "outputs": [],
   "source": [
    "def evaluate_model(model):\n",
    "    \n",
    "    # Make predictions\n",
    "    predictions = list(get_predictions_per_file(model, valid_dataset).values())\n",
    "\n",
    "    # Calculate score\n",
    "    scores = np.empty((0,))\n",
    "\n",
    "    for i, tile in tqdm(enumerate(valid_dataset), total=len(valid_dataset)):\n",
    "        best_prediction = min([valid_dataset[i][\"y\"][pred_ind] for pred_ind in predictions[i][:5]])\n",
    "        best_total = min(valid_dataset[i][\"y\"])\n",
    "        scores = np.append(scores, 2.0 - best_prediction / best_total)\n",
    "\n",
    "    avg_score = np.mean(scores)\n",
    "    print(\"Score:\", avg_score)\n",
    "    return avg_score\n",
    "    "
   ]
  },
  {
   "cell_type": "code",
   "execution_count": 18,
   "id": "549c51a4",
   "metadata": {
    "execution": {
     "iopub.execute_input": "2023-09-11T01:19:54.176791Z",
     "iopub.status.busy": "2023-09-11T01:19:54.176489Z",
     "iopub.status.idle": "2023-09-11T01:20:03.048970Z",
     "shell.execute_reply": "2023-09-11T01:20:03.048050Z"
    },
    "papermill": {
     "duration": 8.922873,
     "end_time": "2023-09-11T01:20:03.051173",
     "exception": false,
     "start_time": "2023-09-11T01:19:54.128300",
     "status": "completed"
    },
    "tags": []
   },
   "outputs": [
    {
     "name": "stderr",
     "output_type": "stream",
     "text": [
      "100%|██████████| 676/676 [00:06<00:00, 99.44it/s] "
     ]
    },
    {
     "name": "stdout",
     "output_type": "stream",
     "text": [
      "Score: 0.4396090775551881\n"
     ]
    },
    {
     "name": "stderr",
     "output_type": "stream",
     "text": [
      "\n"
     ]
    },
    {
     "data": {
      "text/plain": [
       "0.4396090775551881"
      ]
     },
     "execution_count": 18,
     "metadata": {},
     "output_type": "execute_result"
    }
   ],
   "source": [
    "evaluate_model(model)"
   ]
  },
  {
   "cell_type": "code",
   "execution_count": 19,
   "id": "b3544332",
   "metadata": {
    "execution": {
     "iopub.execute_input": "2023-09-11T01:20:03.149580Z",
     "iopub.status.busy": "2023-09-11T01:20:03.149241Z",
     "iopub.status.idle": "2023-09-11T01:20:05.972699Z",
     "shell.execute_reply": "2023-09-11T01:20:05.971601Z"
    },
    "papermill": {
     "duration": 2.875648,
     "end_time": "2023-09-11T01:20:05.975575",
     "exception": false,
     "start_time": "2023-09-11T01:20:03.099927",
     "status": "completed"
    },
    "tags": []
   },
   "outputs": [],
   "source": [
    "def create_submission():\n",
    "    \n",
    "    submission = pd.read_csv(\"/kaggle/input/predict-ai-model-runtime/sample_submission.csv\")\n",
    "    \n",
    "    predictions = get_predictions_per_file(\"tile_model.pt\", test_dataset)\n",
    "    \n",
    "    for model_name in predictions.keys():\n",
    "        model_id = 'tile:xla:' + model_name[:-4]\n",
    "        submission.loc[submission[\"ID\"] == model_id, \"TopConfigs\"] = \";\".join([str(pred) for pred in predictions[model_name].tolist()])\n",
    "    \n",
    "    submission.to_csv(\"submission.csv\", index=False)\n",
    "        \n",
    "create_submission()"
   ]
  }
 ],
 "kernelspec": {
  "display_name": "Python 3",
  "language": "python",
  "name": "python3"
 },
 "language_info": {
  "codemirror_mode": {
   "name": "ipython",
   "version": 3
  },
  "file_extension": ".py",
  "mimetype": "text/x-python",
  "name": "python",
  "nbconvert_exporter": "python",
  "pygments_lexer": "ipython3",
  "version": "3.6.4"
 },
 "metadata": {
  "kernelspec": {
   "display_name": "Python 3",
   "language": "python",
   "name": "python3"
  },
  "language_info": {
   "codemirror_mode": {
    "name": "ipython",
    "version": 3
   },
   "file_extension": ".py",
   "mimetype": "text/x-python",
   "name": "python",
   "nbconvert_exporter": "python",
   "pygments_lexer": "ipython3",
   "version": "3.10.12"
  },
  "papermill": {
   "default_parameters": {},
   "duration": 428.801598,
   "end_time": "2023-09-11T01:20:08.366976",
   "environment_variables": {},
   "exception": null,
   "input_path": "__notebook__.ipynb",
   "output_path": "__notebook__.ipynb",
   "parameters": {},
   "start_time": "2023-09-11T01:12:59.565378",
   "version": "2.4.0"
  }
 },
 "nbformat": 4,
 "nbformat_minor": 5
}
