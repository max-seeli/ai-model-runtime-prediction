{
 "cells": [
  {
   "cell_type": "code",
   "execution_count": 1,
   "id": "16517911",
   "metadata": {
    "execution": {
     "iopub.execute_input": "2023-09-03T21:33:52.547858Z",
     "iopub.status.busy": "2023-09-03T21:33:52.546959Z",
     "iopub.status.idle": "2023-09-03T21:33:56.757343Z",
     "shell.execute_reply": "2023-09-03T21:33:56.756114Z"
    },
    "papermill": {
     "duration": 4.221035,
     "end_time": "2023-09-03T21:33:56.760225",
     "exception": false,
     "start_time": "2023-09-03T21:33:52.539190",
     "status": "completed"
    },
    "tags": []
   },
   "outputs": [],
   "source": [
    "import os\n",
    "from tqdm import tqdm\n",
    "\n",
    "import numpy as np\n",
    "import pandas as pd\n",
    "\n",
    "import torch\n",
    "from torch import nn"
   ]
  },
  {
   "cell_type": "code",
   "execution_count": 2,
   "id": "2372f543",
   "metadata": {
    "execution": {
     "iopub.execute_input": "2023-09-03T21:33:56.771426Z",
     "iopub.status.busy": "2023-09-03T21:33:56.770895Z",
     "iopub.status.idle": "2023-09-03T21:33:56.776172Z",
     "shell.execute_reply": "2023-09-03T21:33:56.775131Z"
    },
    "papermill": {
     "duration": 0.013037,
     "end_time": "2023-09-03T21:33:56.778334",
     "exception": false,
     "start_time": "2023-09-03T21:33:56.765297",
     "status": "completed"
    },
    "tags": []
   },
   "outputs": [],
   "source": [
    "splits = [\"train\", \"valid\", \"test\"]"
   ]
  },
  {
   "cell_type": "code",
   "execution_count": 3,
   "id": "abd2371b",
   "metadata": {
    "execution": {
     "iopub.execute_input": "2023-09-03T21:33:56.788455Z",
     "iopub.status.busy": "2023-09-03T21:33:56.788154Z",
     "iopub.status.idle": "2023-09-03T21:33:56.792832Z",
     "shell.execute_reply": "2023-09-03T21:33:56.791800Z"
    },
    "papermill": {
     "duration": 0.012168,
     "end_time": "2023-09-03T21:33:56.794957",
     "exception": false,
     "start_time": "2023-09-03T21:33:56.782789",
     "status": "completed"
    },
    "tags": []
   },
   "outputs": [],
   "source": [
    "nlp_default = '/kaggle/input/predict-ai-model-runtime/npz_all/npz/layout/nlp/default'\n",
    "nlp_random = '/kaggle/input/predict-ai-model-runtime/npz_all/npz/layout/nlp/random'\n",
    "xla_default = '/kaggle/input/predict-ai-model-runtime/npz_all/npz/layout/xla/default'\n",
    "xla_random = '/kaggle/input/predict-ai-model-runtime/npz_all/npz/layout/xla/random'"
   ]
  },
  {
   "cell_type": "code",
   "execution_count": 4,
   "id": "ab49ec76",
   "metadata": {
    "execution": {
     "iopub.execute_input": "2023-09-03T21:33:56.805196Z",
     "iopub.status.busy": "2023-09-03T21:33:56.804633Z",
     "iopub.status.idle": "2023-09-03T21:33:56.811590Z",
     "shell.execute_reply": "2023-09-03T21:33:56.810537Z"
    },
    "papermill": {
     "duration": 0.014244,
     "end_time": "2023-09-03T21:33:56.813627",
     "exception": false,
     "start_time": "2023-09-03T21:33:56.799383",
     "status": "completed"
    },
    "tags": []
   },
   "outputs": [],
   "source": [
    "def load_data_to_df(directory, split):\n",
    "\n",
    "    path = os.path.join(directory, split)\n",
    "    files = [os.path.join(path, file) for file in os.listdir(path)]\n",
    "    files = files[:10]\n",
    "    data_list = []\n",
    "    for file in tqdm(files):\n",
    "        data = dict(np.load(file))\n",
    "        data_list.append(data)\n",
    "        \n",
    "    return pd.DataFrame(data_list)"
   ]
  },
  {
   "cell_type": "code",
   "execution_count": 5,
   "id": "074e3815",
   "metadata": {
    "execution": {
     "iopub.execute_input": "2023-09-03T21:33:56.824997Z",
     "iopub.status.busy": "2023-09-03T21:33:56.824127Z",
     "iopub.status.idle": "2023-09-03T21:34:07.451889Z",
     "shell.execute_reply": "2023-09-03T21:34:07.450503Z"
    },
    "papermill": {
     "duration": 10.635941,
     "end_time": "2023-09-03T21:34:07.454533",
     "exception": false,
     "start_time": "2023-09-03T21:33:56.818592",
     "status": "completed"
    },
    "tags": []
   },
   "outputs": [
    {
     "name": "stderr",
     "output_type": "stream",
     "text": [
      "100%|██████████| 10/10 [00:10<00:00,  1.06s/it]\n"
     ]
    }
   ],
   "source": [
    "df = load_data_to_df(xla_default, \"train\")"
   ]
  },
  {
   "cell_type": "code",
   "execution_count": 6,
   "id": "2ca458cf",
   "metadata": {
    "execution": {
     "iopub.execute_input": "2023-09-03T21:34:07.468810Z",
     "iopub.status.busy": "2023-09-03T21:34:07.468402Z",
     "iopub.status.idle": "2023-09-03T21:34:07.498136Z",
     "shell.execute_reply": "2023-09-03T21:34:07.496598Z"
    },
    "papermill": {
     "duration": 0.039032,
     "end_time": "2023-09-03T21:34:07.500431",
     "exception": false,
     "start_time": "2023-09-03T21:34:07.461399",
     "status": "completed"
    },
    "tags": []
   },
   "outputs": [
    {
     "name": "stdout",
     "output_type": "stream",
     "text": [
      "<class 'pandas.core.frame.DataFrame'>\n",
      "RangeIndex: 10 entries, 0 to 9\n",
      "Data columns (total 7 columns):\n",
      " #   Column            Non-Null Count  Dtype \n",
      "---  ------            --------------  ----- \n",
      " 0   node_feat         10 non-null     object\n",
      " 1   node_opcode       10 non-null     object\n",
      " 2   edge_index        10 non-null     object\n",
      " 3   node_config_feat  10 non-null     object\n",
      " 4   node_config_ids   10 non-null     object\n",
      " 5   config_runtime    10 non-null     object\n",
      " 6   node_splits       10 non-null     object\n",
      "dtypes: object(7)\n",
      "memory usage: 688.0+ bytes\n"
     ]
    }
   ],
   "source": [
    "df.info()"
   ]
  }
 ],
 "kernelspec": {
  "display_name": "Python 3",
  "language": "python",
  "name": "python3"
 },
 "language_info": {
  "codemirror_mode": {
   "name": "ipython",
   "version": 3
  },
  "file_extension": ".py",
  "mimetype": "text/x-python",
  "name": "python",
  "nbconvert_exporter": "python",
  "pygments_lexer": "ipython3",
  "version": "3.6.4"
 },
 "metadata": {
  "kernelspec": {
   "display_name": "Python 3",
   "language": "python",
   "name": "python3"
  },
  "language_info": {
   "codemirror_mode": {
    "name": "ipython",
    "version": 3
   },
   "file_extension": ".py",
   "mimetype": "text/x-python",
   "name": "python",
   "nbconvert_exporter": "python",
   "pygments_lexer": "ipython3",
   "version": "3.10.12"
  },
  "papermill": {
   "default_parameters": {},
   "duration": 20.372479,
   "end_time": "2023-09-03T21:34:08.528895",
   "environment_variables": {},
   "exception": null,
   "input_path": "__notebook__.ipynb",
   "output_path": "__notebook__.ipynb",
   "parameters": {},
   "start_time": "2023-09-03T21:33:48.156416",
   "version": "2.4.0"
  }
 },
 "nbformat": 4,
 "nbformat_minor": 5
}
